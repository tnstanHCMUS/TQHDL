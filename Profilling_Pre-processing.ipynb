{
  "cells": [
    {
      "cell_type": "markdown",
      "metadata": {
        "id": "view-in-github",
        "colab_type": "text"
      },
      "source": [
        "<a href=\"https://colab.research.google.com/github/tnstanHCMUS/TQHDL/blob/main/Profilling_Pre-processing.ipynb\" target=\"_parent\"><img src=\"https://colab.research.google.com/assets/colab-badge.svg\" alt=\"Open In Colab\"/></a>"
      ]
    },
    {
      "cell_type": "markdown",
      "metadata": {
        "id": "VIbXdZhfoNcv"
      },
      "source": [
        "# <center>Đồ án lý thuyết môn trực quan hoá: Netflix dataset</center>"
      ]
    },
    {
      "cell_type": "markdown",
      "metadata": {
        "id": "K05Eu9AdoNcw"
      },
      "source": [
        "# Thông tin sinh viên\n",
        "\n",
        "- Nhóm 10:\n",
        "    + 22127163 - Trần Đan Huy\n",
        "    + 22127290 - Nguyễn Thị Thu Ngân\n",
        "    + 22127029 - Lê Nguyễn Gia Bảo\n",
        "    + 22127026 - Ôn Gia Bảo"
      ]
    },
    {
      "cell_type": "markdown",
      "metadata": {
        "id": "jdY4l1ZooNcw"
      },
      "source": [
        "# Import"
      ]
    },
    {
      "cell_type": "markdown",
      "source": [],
      "metadata": {
        "id": "LKrTkRBHpkDK"
      }
    },
    {
      "cell_type": "code",
      "execution_count": null,
      "metadata": {
        "id": "C_keNN3RoNcx"
      },
      "outputs": [],
      "source": [
        "import pandas as pd\n",
        "import numpy as np\n",
        "import os"
      ]
    },
    {
      "cell_type": "markdown",
      "metadata": {
        "id": "LEybA7tUoNcy"
      },
      "source": [
        "# Tải csv lên hệ thống\n"
      ]
    },
    {
      "cell_type": "code",
      "source": [
        "from google.colab import files\n",
        "uploaded = files.upload()"
      ],
      "metadata": {
        "colab": {
          "base_uri": "https://localhost:8080/",
          "height": 74
        },
        "id": "VJyeoWriqI6w",
        "outputId": "ffb1174f-4ab2-4c13-ab35-c472a62ab703"
      },
      "execution_count": null,
      "outputs": [
        {
          "output_type": "display_data",
          "data": {
            "text/plain": [
              "<IPython.core.display.HTML object>"
            ],
            "text/html": [
              "\n",
              "     <input type=\"file\" id=\"files-ad6c69a4-abdb-4e9b-a855-96bf782e1f3c\" name=\"files[]\" multiple disabled\n",
              "        style=\"border:none\" />\n",
              "     <output id=\"result-ad6c69a4-abdb-4e9b-a855-96bf782e1f3c\">\n",
              "      Upload widget is only available when the cell has been executed in the\n",
              "      current browser session. Please rerun this cell to enable.\n",
              "      </output>\n",
              "      <script>// Copyright 2017 Google LLC\n",
              "//\n",
              "// Licensed under the Apache License, Version 2.0 (the \"License\");\n",
              "// you may not use this file except in compliance with the License.\n",
              "// You may obtain a copy of the License at\n",
              "//\n",
              "//      http://www.apache.org/licenses/LICENSE-2.0\n",
              "//\n",
              "// Unless required by applicable law or agreed to in writing, software\n",
              "// distributed under the License is distributed on an \"AS IS\" BASIS,\n",
              "// WITHOUT WARRANTIES OR CONDITIONS OF ANY KIND, either express or implied.\n",
              "// See the License for the specific language governing permissions and\n",
              "// limitations under the License.\n",
              "\n",
              "/**\n",
              " * @fileoverview Helpers for google.colab Python module.\n",
              " */\n",
              "(function(scope) {\n",
              "function span(text, styleAttributes = {}) {\n",
              "  const element = document.createElement('span');\n",
              "  element.textContent = text;\n",
              "  for (const key of Object.keys(styleAttributes)) {\n",
              "    element.style[key] = styleAttributes[key];\n",
              "  }\n",
              "  return element;\n",
              "}\n",
              "\n",
              "// Max number of bytes which will be uploaded at a time.\n",
              "const MAX_PAYLOAD_SIZE = 100 * 1024;\n",
              "\n",
              "function _uploadFiles(inputId, outputId) {\n",
              "  const steps = uploadFilesStep(inputId, outputId);\n",
              "  const outputElement = document.getElementById(outputId);\n",
              "  // Cache steps on the outputElement to make it available for the next call\n",
              "  // to uploadFilesContinue from Python.\n",
              "  outputElement.steps = steps;\n",
              "\n",
              "  return _uploadFilesContinue(outputId);\n",
              "}\n",
              "\n",
              "// This is roughly an async generator (not supported in the browser yet),\n",
              "// where there are multiple asynchronous steps and the Python side is going\n",
              "// to poll for completion of each step.\n",
              "// This uses a Promise to block the python side on completion of each step,\n",
              "// then passes the result of the previous step as the input to the next step.\n",
              "function _uploadFilesContinue(outputId) {\n",
              "  const outputElement = document.getElementById(outputId);\n",
              "  const steps = outputElement.steps;\n",
              "\n",
              "  const next = steps.next(outputElement.lastPromiseValue);\n",
              "  return Promise.resolve(next.value.promise).then((value) => {\n",
              "    // Cache the last promise value to make it available to the next\n",
              "    // step of the generator.\n",
              "    outputElement.lastPromiseValue = value;\n",
              "    return next.value.response;\n",
              "  });\n",
              "}\n",
              "\n",
              "/**\n",
              " * Generator function which is called between each async step of the upload\n",
              " * process.\n",
              " * @param {string} inputId Element ID of the input file picker element.\n",
              " * @param {string} outputId Element ID of the output display.\n",
              " * @return {!Iterable<!Object>} Iterable of next steps.\n",
              " */\n",
              "function* uploadFilesStep(inputId, outputId) {\n",
              "  const inputElement = document.getElementById(inputId);\n",
              "  inputElement.disabled = false;\n",
              "\n",
              "  const outputElement = document.getElementById(outputId);\n",
              "  outputElement.innerHTML = '';\n",
              "\n",
              "  const pickedPromise = new Promise((resolve) => {\n",
              "    inputElement.addEventListener('change', (e) => {\n",
              "      resolve(e.target.files);\n",
              "    });\n",
              "  });\n",
              "\n",
              "  const cancel = document.createElement('button');\n",
              "  inputElement.parentElement.appendChild(cancel);\n",
              "  cancel.textContent = 'Cancel upload';\n",
              "  const cancelPromise = new Promise((resolve) => {\n",
              "    cancel.onclick = () => {\n",
              "      resolve(null);\n",
              "    };\n",
              "  });\n",
              "\n",
              "  // Wait for the user to pick the files.\n",
              "  const files = yield {\n",
              "    promise: Promise.race([pickedPromise, cancelPromise]),\n",
              "    response: {\n",
              "      action: 'starting',\n",
              "    }\n",
              "  };\n",
              "\n",
              "  cancel.remove();\n",
              "\n",
              "  // Disable the input element since further picks are not allowed.\n",
              "  inputElement.disabled = true;\n",
              "\n",
              "  if (!files) {\n",
              "    return {\n",
              "      response: {\n",
              "        action: 'complete',\n",
              "      }\n",
              "    };\n",
              "  }\n",
              "\n",
              "  for (const file of files) {\n",
              "    const li = document.createElement('li');\n",
              "    li.append(span(file.name, {fontWeight: 'bold'}));\n",
              "    li.append(span(\n",
              "        `(${file.type || 'n/a'}) - ${file.size} bytes, ` +\n",
              "        `last modified: ${\n",
              "            file.lastModifiedDate ? file.lastModifiedDate.toLocaleDateString() :\n",
              "                                    'n/a'} - `));\n",
              "    const percent = span('0% done');\n",
              "    li.appendChild(percent);\n",
              "\n",
              "    outputElement.appendChild(li);\n",
              "\n",
              "    const fileDataPromise = new Promise((resolve) => {\n",
              "      const reader = new FileReader();\n",
              "      reader.onload = (e) => {\n",
              "        resolve(e.target.result);\n",
              "      };\n",
              "      reader.readAsArrayBuffer(file);\n",
              "    });\n",
              "    // Wait for the data to be ready.\n",
              "    let fileData = yield {\n",
              "      promise: fileDataPromise,\n",
              "      response: {\n",
              "        action: 'continue',\n",
              "      }\n",
              "    };\n",
              "\n",
              "    // Use a chunked sending to avoid message size limits. See b/62115660.\n",
              "    let position = 0;\n",
              "    do {\n",
              "      const length = Math.min(fileData.byteLength - position, MAX_PAYLOAD_SIZE);\n",
              "      const chunk = new Uint8Array(fileData, position, length);\n",
              "      position += length;\n",
              "\n",
              "      const base64 = btoa(String.fromCharCode.apply(null, chunk));\n",
              "      yield {\n",
              "        response: {\n",
              "          action: 'append',\n",
              "          file: file.name,\n",
              "          data: base64,\n",
              "        },\n",
              "      };\n",
              "\n",
              "      let percentDone = fileData.byteLength === 0 ?\n",
              "          100 :\n",
              "          Math.round((position / fileData.byteLength) * 100);\n",
              "      percent.textContent = `${percentDone}% done`;\n",
              "\n",
              "    } while (position < fileData.byteLength);\n",
              "  }\n",
              "\n",
              "  // All done.\n",
              "  yield {\n",
              "    response: {\n",
              "      action: 'complete',\n",
              "    }\n",
              "  };\n",
              "}\n",
              "\n",
              "scope.google = scope.google || {};\n",
              "scope.google.colab = scope.google.colab || {};\n",
              "scope.google.colab._files = {\n",
              "  _uploadFiles,\n",
              "  _uploadFilesContinue,\n",
              "};\n",
              "})(self);\n",
              "</script> "
            ]
          },
          "metadata": {}
        },
        {
          "output_type": "stream",
          "name": "stdout",
          "text": [
            "Saving netflix_titles.csv to netflix_titles.csv\n"
          ]
        }
      ]
    },
    {
      "cell_type": "markdown",
      "metadata": {
        "id": "pPV51hYNp-5A"
      },
      "source": [
        "# Đọc dữ liệu"
      ]
    },
    {
      "cell_type": "code",
      "execution_count": null,
      "metadata": {
        "id": "B9HhaKj0oNcy"
      },
      "outputs": [],
      "source": [
        "# Đọc dữ liệu bằng pandas\n",
        "#tắt chức năng tự chuyển giá trị trống thành NaN của pandas\n",
        "df = pd.read_csv('netflix_titles.csv', encoding='utf-8-sig', keep_default_na=False)\n",
        "#df.head()"
      ]
    },
    {
      "cell_type": "markdown",
      "source": [
        "#Data profilling"
      ],
      "metadata": {
        "id": "TCah2_r-pdEF"
      }
    },
    {
      "cell_type": "markdown",
      "source": [
        "###1. Overview"
      ],
      "metadata": {
        "id": "VKIH7okcNwGc"
      }
    },
    {
      "cell_type": "code",
      "source": [
        "# Tổng số dòng\n",
        "total_rows = len(df)\n",
        "\n",
        "# Hàm phân tích chất lượng cột\n",
        "def column_quality(col):\n",
        "    total = total_rows\n",
        "    nulls = df[col].isnull().sum()\n",
        "    missing = df[col].apply(lambda x: isinstance(x, str) and x.strip() == '').sum()\n",
        "    actual = total - nulls - missing\n",
        "    completeness = actual / total if total > 0 else 0\n",
        "    cardinality = df[col].nunique(dropna=True)\n",
        "    uniqueness = cardinality / actual if actual > 0 else 0\n",
        "    distinctness = cardinality / total if total > 0 else 0\n",
        "    dtype = df[col].dtype\n",
        "\n",
        "    return pd.Series({\n",
        "        'Data Type': dtype,\n",
        "        'Total': total,\n",
        "        'NULL': nulls,\n",
        "        'Missing': missing,\n",
        "        'Actual': actual,\n",
        "        'Completeness (%)': f\"{completeness * 100:.3f}%\",\n",
        "        'Cardinality': cardinality,\n",
        "        'Uniqueness (%)': f\"{uniqueness * 100:.3f}%\",\n",
        "        'Distinctness (%)': f\"{distinctness * 100:.3f}%\"\n",
        "    })\n",
        "\n",
        "# Áp dụng cho toàn bộ cột\n",
        "quality_df = df.columns.to_series().apply(column_quality)\n",
        "\n",
        "# Định dạng lại bảng\n",
        "quality_df = quality_df.reset_index().rename(columns={'index': 'Column'})\n",
        "quality_df.index += 1  # STT bắt đầu từ 1\n",
        "\n",
        "quality_df"
      ],
      "metadata": {
        "colab": {
          "base_uri": "https://localhost:8080/",
          "height": 426
        },
        "id": "V2FCetBiphcW",
        "outputId": "4264d6b0-9f1a-4f59-b043-0c0523cf9654"
      },
      "execution_count": null,
      "outputs": [
        {
          "output_type": "execute_result",
          "data": {
            "text/plain": [
              "          Column Data Type  Total  NULL  Missing  Actual Completeness (%)  \\\n",
              "1        show_id    object   8807     0        0    8807         100.000%   \n",
              "2           type    object   8807     0        0    8807         100.000%   \n",
              "3          title    object   8807     0        0    8807         100.000%   \n",
              "4       director    object   8807     0     2634    6173          70.092%   \n",
              "5           cast    object   8807     0      825    7982          90.632%   \n",
              "6        country    object   8807     0      831    7976          90.564%   \n",
              "7     date_added    object   8807     0       10    8797          99.886%   \n",
              "8   release_year     int64   8807     0        0    8807         100.000%   \n",
              "9         rating    object   8807     0        4    8803          99.955%   \n",
              "10      duration    object   8807     0        3    8804          99.966%   \n",
              "11     listed_in    object   8807     0        0    8807         100.000%   \n",
              "12   description    object   8807     0        0    8807         100.000%   \n",
              "\n",
              "    Cardinality Uniqueness (%) Distinctness (%)  \n",
              "1          8807       100.000%         100.000%  \n",
              "2             2         0.023%           0.023%  \n",
              "3          8807       100.000%         100.000%  \n",
              "4          4529        73.368%          51.425%  \n",
              "5          7693        96.379%          87.351%  \n",
              "6           749         9.391%           8.505%  \n",
              "7          1768        20.098%          20.075%  \n",
              "8            74         0.840%           0.840%  \n",
              "9            18         0.204%           0.204%  \n",
              "10          221         2.510%           2.509%  \n",
              "11          514         5.836%           5.836%  \n",
              "12         8775        99.637%          99.637%  "
            ],
            "text/html": [
              "\n",
              "  <div id=\"df-3e31a309-df3b-44b8-a41c-49990ee8ccc7\" class=\"colab-df-container\">\n",
              "    <div>\n",
              "<style scoped>\n",
              "    .dataframe tbody tr th:only-of-type {\n",
              "        vertical-align: middle;\n",
              "    }\n",
              "\n",
              "    .dataframe tbody tr th {\n",
              "        vertical-align: top;\n",
              "    }\n",
              "\n",
              "    .dataframe thead th {\n",
              "        text-align: right;\n",
              "    }\n",
              "</style>\n",
              "<table border=\"1\" class=\"dataframe\">\n",
              "  <thead>\n",
              "    <tr style=\"text-align: right;\">\n",
              "      <th></th>\n",
              "      <th>Column</th>\n",
              "      <th>Data Type</th>\n",
              "      <th>Total</th>\n",
              "      <th>NULL</th>\n",
              "      <th>Missing</th>\n",
              "      <th>Actual</th>\n",
              "      <th>Completeness (%)</th>\n",
              "      <th>Cardinality</th>\n",
              "      <th>Uniqueness (%)</th>\n",
              "      <th>Distinctness (%)</th>\n",
              "    </tr>\n",
              "  </thead>\n",
              "  <tbody>\n",
              "    <tr>\n",
              "      <th>1</th>\n",
              "      <td>show_id</td>\n",
              "      <td>object</td>\n",
              "      <td>8807</td>\n",
              "      <td>0</td>\n",
              "      <td>0</td>\n",
              "      <td>8807</td>\n",
              "      <td>100.000%</td>\n",
              "      <td>8807</td>\n",
              "      <td>100.000%</td>\n",
              "      <td>100.000%</td>\n",
              "    </tr>\n",
              "    <tr>\n",
              "      <th>2</th>\n",
              "      <td>type</td>\n",
              "      <td>object</td>\n",
              "      <td>8807</td>\n",
              "      <td>0</td>\n",
              "      <td>0</td>\n",
              "      <td>8807</td>\n",
              "      <td>100.000%</td>\n",
              "      <td>2</td>\n",
              "      <td>0.023%</td>\n",
              "      <td>0.023%</td>\n",
              "    </tr>\n",
              "    <tr>\n",
              "      <th>3</th>\n",
              "      <td>title</td>\n",
              "      <td>object</td>\n",
              "      <td>8807</td>\n",
              "      <td>0</td>\n",
              "      <td>0</td>\n",
              "      <td>8807</td>\n",
              "      <td>100.000%</td>\n",
              "      <td>8807</td>\n",
              "      <td>100.000%</td>\n",
              "      <td>100.000%</td>\n",
              "    </tr>\n",
              "    <tr>\n",
              "      <th>4</th>\n",
              "      <td>director</td>\n",
              "      <td>object</td>\n",
              "      <td>8807</td>\n",
              "      <td>0</td>\n",
              "      <td>2634</td>\n",
              "      <td>6173</td>\n",
              "      <td>70.092%</td>\n",
              "      <td>4529</td>\n",
              "      <td>73.368%</td>\n",
              "      <td>51.425%</td>\n",
              "    </tr>\n",
              "    <tr>\n",
              "      <th>5</th>\n",
              "      <td>cast</td>\n",
              "      <td>object</td>\n",
              "      <td>8807</td>\n",
              "      <td>0</td>\n",
              "      <td>825</td>\n",
              "      <td>7982</td>\n",
              "      <td>90.632%</td>\n",
              "      <td>7693</td>\n",
              "      <td>96.379%</td>\n",
              "      <td>87.351%</td>\n",
              "    </tr>\n",
              "    <tr>\n",
              "      <th>6</th>\n",
              "      <td>country</td>\n",
              "      <td>object</td>\n",
              "      <td>8807</td>\n",
              "      <td>0</td>\n",
              "      <td>831</td>\n",
              "      <td>7976</td>\n",
              "      <td>90.564%</td>\n",
              "      <td>749</td>\n",
              "      <td>9.391%</td>\n",
              "      <td>8.505%</td>\n",
              "    </tr>\n",
              "    <tr>\n",
              "      <th>7</th>\n",
              "      <td>date_added</td>\n",
              "      <td>object</td>\n",
              "      <td>8807</td>\n",
              "      <td>0</td>\n",
              "      <td>10</td>\n",
              "      <td>8797</td>\n",
              "      <td>99.886%</td>\n",
              "      <td>1768</td>\n",
              "      <td>20.098%</td>\n",
              "      <td>20.075%</td>\n",
              "    </tr>\n",
              "    <tr>\n",
              "      <th>8</th>\n",
              "      <td>release_year</td>\n",
              "      <td>int64</td>\n",
              "      <td>8807</td>\n",
              "      <td>0</td>\n",
              "      <td>0</td>\n",
              "      <td>8807</td>\n",
              "      <td>100.000%</td>\n",
              "      <td>74</td>\n",
              "      <td>0.840%</td>\n",
              "      <td>0.840%</td>\n",
              "    </tr>\n",
              "    <tr>\n",
              "      <th>9</th>\n",
              "      <td>rating</td>\n",
              "      <td>object</td>\n",
              "      <td>8807</td>\n",
              "      <td>0</td>\n",
              "      <td>4</td>\n",
              "      <td>8803</td>\n",
              "      <td>99.955%</td>\n",
              "      <td>18</td>\n",
              "      <td>0.204%</td>\n",
              "      <td>0.204%</td>\n",
              "    </tr>\n",
              "    <tr>\n",
              "      <th>10</th>\n",
              "      <td>duration</td>\n",
              "      <td>object</td>\n",
              "      <td>8807</td>\n",
              "      <td>0</td>\n",
              "      <td>3</td>\n",
              "      <td>8804</td>\n",
              "      <td>99.966%</td>\n",
              "      <td>221</td>\n",
              "      <td>2.510%</td>\n",
              "      <td>2.509%</td>\n",
              "    </tr>\n",
              "    <tr>\n",
              "      <th>11</th>\n",
              "      <td>listed_in</td>\n",
              "      <td>object</td>\n",
              "      <td>8807</td>\n",
              "      <td>0</td>\n",
              "      <td>0</td>\n",
              "      <td>8807</td>\n",
              "      <td>100.000%</td>\n",
              "      <td>514</td>\n",
              "      <td>5.836%</td>\n",
              "      <td>5.836%</td>\n",
              "    </tr>\n",
              "    <tr>\n",
              "      <th>12</th>\n",
              "      <td>description</td>\n",
              "      <td>object</td>\n",
              "      <td>8807</td>\n",
              "      <td>0</td>\n",
              "      <td>0</td>\n",
              "      <td>8807</td>\n",
              "      <td>100.000%</td>\n",
              "      <td>8775</td>\n",
              "      <td>99.637%</td>\n",
              "      <td>99.637%</td>\n",
              "    </tr>\n",
              "  </tbody>\n",
              "</table>\n",
              "</div>\n",
              "    <div class=\"colab-df-buttons\">\n",
              "\n",
              "  <div class=\"colab-df-container\">\n",
              "    <button class=\"colab-df-convert\" onclick=\"convertToInteractive('df-3e31a309-df3b-44b8-a41c-49990ee8ccc7')\"\n",
              "            title=\"Convert this dataframe to an interactive table.\"\n",
              "            style=\"display:none;\">\n",
              "\n",
              "  <svg xmlns=\"http://www.w3.org/2000/svg\" height=\"24px\" viewBox=\"0 -960 960 960\">\n",
              "    <path d=\"M120-120v-720h720v720H120Zm60-500h600v-160H180v160Zm220 220h160v-160H400v160Zm0 220h160v-160H400v160ZM180-400h160v-160H180v160Zm440 0h160v-160H620v160ZM180-180h160v-160H180v160Zm440 0h160v-160H620v160Z\"/>\n",
              "  </svg>\n",
              "    </button>\n",
              "\n",
              "  <style>\n",
              "    .colab-df-container {\n",
              "      display:flex;\n",
              "      gap: 12px;\n",
              "    }\n",
              "\n",
              "    .colab-df-convert {\n",
              "      background-color: #E8F0FE;\n",
              "      border: none;\n",
              "      border-radius: 50%;\n",
              "      cursor: pointer;\n",
              "      display: none;\n",
              "      fill: #1967D2;\n",
              "      height: 32px;\n",
              "      padding: 0 0 0 0;\n",
              "      width: 32px;\n",
              "    }\n",
              "\n",
              "    .colab-df-convert:hover {\n",
              "      background-color: #E2EBFA;\n",
              "      box-shadow: 0px 1px 2px rgba(60, 64, 67, 0.3), 0px 1px 3px 1px rgba(60, 64, 67, 0.15);\n",
              "      fill: #174EA6;\n",
              "    }\n",
              "\n",
              "    .colab-df-buttons div {\n",
              "      margin-bottom: 4px;\n",
              "    }\n",
              "\n",
              "    [theme=dark] .colab-df-convert {\n",
              "      background-color: #3B4455;\n",
              "      fill: #D2E3FC;\n",
              "    }\n",
              "\n",
              "    [theme=dark] .colab-df-convert:hover {\n",
              "      background-color: #434B5C;\n",
              "      box-shadow: 0px 1px 3px 1px rgba(0, 0, 0, 0.15);\n",
              "      filter: drop-shadow(0px 1px 2px rgba(0, 0, 0, 0.3));\n",
              "      fill: #FFFFFF;\n",
              "    }\n",
              "  </style>\n",
              "\n",
              "    <script>\n",
              "      const buttonEl =\n",
              "        document.querySelector('#df-3e31a309-df3b-44b8-a41c-49990ee8ccc7 button.colab-df-convert');\n",
              "      buttonEl.style.display =\n",
              "        google.colab.kernel.accessAllowed ? 'block' : 'none';\n",
              "\n",
              "      async function convertToInteractive(key) {\n",
              "        const element = document.querySelector('#df-3e31a309-df3b-44b8-a41c-49990ee8ccc7');\n",
              "        const dataTable =\n",
              "          await google.colab.kernel.invokeFunction('convertToInteractive',\n",
              "                                                    [key], {});\n",
              "        if (!dataTable) return;\n",
              "\n",
              "        const docLinkHtml = 'Like what you see? Visit the ' +\n",
              "          '<a target=\"_blank\" href=https://colab.research.google.com/notebooks/data_table.ipynb>data table notebook</a>'\n",
              "          + ' to learn more about interactive tables.';\n",
              "        element.innerHTML = '';\n",
              "        dataTable['output_type'] = 'display_data';\n",
              "        await google.colab.output.renderOutput(dataTable, element);\n",
              "        const docLink = document.createElement('div');\n",
              "        docLink.innerHTML = docLinkHtml;\n",
              "        element.appendChild(docLink);\n",
              "      }\n",
              "    </script>\n",
              "  </div>\n",
              "\n",
              "\n",
              "<div id=\"df-133fa1e0-78ab-4580-be51-eb2d9fafd8d5\">\n",
              "  <button class=\"colab-df-quickchart\" onclick=\"quickchart('df-133fa1e0-78ab-4580-be51-eb2d9fafd8d5')\"\n",
              "            title=\"Suggest charts\"\n",
              "            style=\"display:none;\">\n",
              "\n",
              "<svg xmlns=\"http://www.w3.org/2000/svg\" height=\"24px\"viewBox=\"0 0 24 24\"\n",
              "     width=\"24px\">\n",
              "    <g>\n",
              "        <path d=\"M19 3H5c-1.1 0-2 .9-2 2v14c0 1.1.9 2 2 2h14c1.1 0 2-.9 2-2V5c0-1.1-.9-2-2-2zM9 17H7v-7h2v7zm4 0h-2V7h2v10zm4 0h-2v-4h2v4z\"/>\n",
              "    </g>\n",
              "</svg>\n",
              "  </button>\n",
              "\n",
              "<style>\n",
              "  .colab-df-quickchart {\n",
              "      --bg-color: #E8F0FE;\n",
              "      --fill-color: #1967D2;\n",
              "      --hover-bg-color: #E2EBFA;\n",
              "      --hover-fill-color: #174EA6;\n",
              "      --disabled-fill-color: #AAA;\n",
              "      --disabled-bg-color: #DDD;\n",
              "  }\n",
              "\n",
              "  [theme=dark] .colab-df-quickchart {\n",
              "      --bg-color: #3B4455;\n",
              "      --fill-color: #D2E3FC;\n",
              "      --hover-bg-color: #434B5C;\n",
              "      --hover-fill-color: #FFFFFF;\n",
              "      --disabled-bg-color: #3B4455;\n",
              "      --disabled-fill-color: #666;\n",
              "  }\n",
              "\n",
              "  .colab-df-quickchart {\n",
              "    background-color: var(--bg-color);\n",
              "    border: none;\n",
              "    border-radius: 50%;\n",
              "    cursor: pointer;\n",
              "    display: none;\n",
              "    fill: var(--fill-color);\n",
              "    height: 32px;\n",
              "    padding: 0;\n",
              "    width: 32px;\n",
              "  }\n",
              "\n",
              "  .colab-df-quickchart:hover {\n",
              "    background-color: var(--hover-bg-color);\n",
              "    box-shadow: 0 1px 2px rgba(60, 64, 67, 0.3), 0 1px 3px 1px rgba(60, 64, 67, 0.15);\n",
              "    fill: var(--button-hover-fill-color);\n",
              "  }\n",
              "\n",
              "  .colab-df-quickchart-complete:disabled,\n",
              "  .colab-df-quickchart-complete:disabled:hover {\n",
              "    background-color: var(--disabled-bg-color);\n",
              "    fill: var(--disabled-fill-color);\n",
              "    box-shadow: none;\n",
              "  }\n",
              "\n",
              "  .colab-df-spinner {\n",
              "    border: 2px solid var(--fill-color);\n",
              "    border-color: transparent;\n",
              "    border-bottom-color: var(--fill-color);\n",
              "    animation:\n",
              "      spin 1s steps(1) infinite;\n",
              "  }\n",
              "\n",
              "  @keyframes spin {\n",
              "    0% {\n",
              "      border-color: transparent;\n",
              "      border-bottom-color: var(--fill-color);\n",
              "      border-left-color: var(--fill-color);\n",
              "    }\n",
              "    20% {\n",
              "      border-color: transparent;\n",
              "      border-left-color: var(--fill-color);\n",
              "      border-top-color: var(--fill-color);\n",
              "    }\n",
              "    30% {\n",
              "      border-color: transparent;\n",
              "      border-left-color: var(--fill-color);\n",
              "      border-top-color: var(--fill-color);\n",
              "      border-right-color: var(--fill-color);\n",
              "    }\n",
              "    40% {\n",
              "      border-color: transparent;\n",
              "      border-right-color: var(--fill-color);\n",
              "      border-top-color: var(--fill-color);\n",
              "    }\n",
              "    60% {\n",
              "      border-color: transparent;\n",
              "      border-right-color: var(--fill-color);\n",
              "    }\n",
              "    80% {\n",
              "      border-color: transparent;\n",
              "      border-right-color: var(--fill-color);\n",
              "      border-bottom-color: var(--fill-color);\n",
              "    }\n",
              "    90% {\n",
              "      border-color: transparent;\n",
              "      border-bottom-color: var(--fill-color);\n",
              "    }\n",
              "  }\n",
              "</style>\n",
              "\n",
              "  <script>\n",
              "    async function quickchart(key) {\n",
              "      const quickchartButtonEl =\n",
              "        document.querySelector('#' + key + ' button');\n",
              "      quickchartButtonEl.disabled = true;  // To prevent multiple clicks.\n",
              "      quickchartButtonEl.classList.add('colab-df-spinner');\n",
              "      try {\n",
              "        const charts = await google.colab.kernel.invokeFunction(\n",
              "            'suggestCharts', [key], {});\n",
              "      } catch (error) {\n",
              "        console.error('Error during call to suggestCharts:', error);\n",
              "      }\n",
              "      quickchartButtonEl.classList.remove('colab-df-spinner');\n",
              "      quickchartButtonEl.classList.add('colab-df-quickchart-complete');\n",
              "    }\n",
              "    (() => {\n",
              "      let quickchartButtonEl =\n",
              "        document.querySelector('#df-133fa1e0-78ab-4580-be51-eb2d9fafd8d5 button');\n",
              "      quickchartButtonEl.style.display =\n",
              "        google.colab.kernel.accessAllowed ? 'block' : 'none';\n",
              "    })();\n",
              "  </script>\n",
              "</div>\n",
              "\n",
              "  <div id=\"id_61365eac-7240-4d64-acff-129cac51da75\">\n",
              "    <style>\n",
              "      .colab-df-generate {\n",
              "        background-color: #E8F0FE;\n",
              "        border: none;\n",
              "        border-radius: 50%;\n",
              "        cursor: pointer;\n",
              "        display: none;\n",
              "        fill: #1967D2;\n",
              "        height: 32px;\n",
              "        padding: 0 0 0 0;\n",
              "        width: 32px;\n",
              "      }\n",
              "\n",
              "      .colab-df-generate:hover {\n",
              "        background-color: #E2EBFA;\n",
              "        box-shadow: 0px 1px 2px rgba(60, 64, 67, 0.3), 0px 1px 3px 1px rgba(60, 64, 67, 0.15);\n",
              "        fill: #174EA6;\n",
              "      }\n",
              "\n",
              "      [theme=dark] .colab-df-generate {\n",
              "        background-color: #3B4455;\n",
              "        fill: #D2E3FC;\n",
              "      }\n",
              "\n",
              "      [theme=dark] .colab-df-generate:hover {\n",
              "        background-color: #434B5C;\n",
              "        box-shadow: 0px 1px 3px 1px rgba(0, 0, 0, 0.15);\n",
              "        filter: drop-shadow(0px 1px 2px rgba(0, 0, 0, 0.3));\n",
              "        fill: #FFFFFF;\n",
              "      }\n",
              "    </style>\n",
              "    <button class=\"colab-df-generate\" onclick=\"generateWithVariable('quality_df')\"\n",
              "            title=\"Generate code using this dataframe.\"\n",
              "            style=\"display:none;\">\n",
              "\n",
              "  <svg xmlns=\"http://www.w3.org/2000/svg\" height=\"24px\"viewBox=\"0 0 24 24\"\n",
              "       width=\"24px\">\n",
              "    <path d=\"M7,19H8.4L18.45,9,17,7.55,7,17.6ZM5,21V16.75L18.45,3.32a2,2,0,0,1,2.83,0l1.4,1.43a1.91,1.91,0,0,1,.58,1.4,1.91,1.91,0,0,1-.58,1.4L9.25,21ZM18.45,9,17,7.55Zm-12,3A5.31,5.31,0,0,0,4.9,8.1,5.31,5.31,0,0,0,1,6.5,5.31,5.31,0,0,0,4.9,4.9,5.31,5.31,0,0,0,6.5,1,5.31,5.31,0,0,0,8.1,4.9,5.31,5.31,0,0,0,12,6.5,5.46,5.46,0,0,0,6.5,12Z\"/>\n",
              "  </svg>\n",
              "    </button>\n",
              "    <script>\n",
              "      (() => {\n",
              "      const buttonEl =\n",
              "        document.querySelector('#id_61365eac-7240-4d64-acff-129cac51da75 button.colab-df-generate');\n",
              "      buttonEl.style.display =\n",
              "        google.colab.kernel.accessAllowed ? 'block' : 'none';\n",
              "\n",
              "      buttonEl.onclick = () => {\n",
              "        google.colab.notebook.generateWithVariable('quality_df');\n",
              "      }\n",
              "      })();\n",
              "    </script>\n",
              "  </div>\n",
              "\n",
              "    </div>\n",
              "  </div>\n"
            ],
            "application/vnd.google.colaboratory.intrinsic+json": {
              "type": "dataframe",
              "variable_name": "quality_df",
              "summary": "{\n  \"name\": \"quality_df\",\n  \"rows\": 12,\n  \"fields\": [\n    {\n      \"column\": \"Column\",\n      \"properties\": {\n        \"dtype\": \"string\",\n        \"num_unique_values\": 12,\n        \"samples\": [\n          \"listed_in\",\n          \"duration\",\n          \"show_id\"\n        ],\n        \"semantic_type\": \"\",\n        \"description\": \"\"\n      }\n    },\n    {\n      \"column\": \"Data Type\",\n      \"properties\": {\n        \"dtype\": \"category\",\n        \"num_unique_values\": 2,\n        \"samples\": [\n          \"int64\",\n          \"object\"\n        ],\n        \"semantic_type\": \"\",\n        \"description\": \"\"\n      }\n    },\n    {\n      \"column\": \"Total\",\n      \"properties\": {\n        \"dtype\": \"number\",\n        \"std\": 0,\n        \"min\": 8807,\n        \"max\": 8807,\n        \"num_unique_values\": 1,\n        \"samples\": [\n          8807\n        ],\n        \"semantic_type\": \"\",\n        \"description\": \"\"\n      }\n    },\n    {\n      \"column\": \"NULL\",\n      \"properties\": {\n        \"dtype\": \"number\",\n        \"std\": 0,\n        \"min\": 0,\n        \"max\": 0,\n        \"num_unique_values\": 1,\n        \"samples\": [\n          0\n        ],\n        \"semantic_type\": \"\",\n        \"description\": \"\"\n      }\n    },\n    {\n      \"column\": \"Missing\",\n      \"properties\": {\n        \"dtype\": \"number\",\n        \"std\": 784,\n        \"min\": 0,\n        \"max\": 2634,\n        \"num_unique_values\": 7,\n        \"samples\": [\n          0\n        ],\n        \"semantic_type\": \"\",\n        \"description\": \"\"\n      }\n    },\n    {\n      \"column\": \"Actual\",\n      \"properties\": {\n        \"dtype\": \"number\",\n        \"std\": 784,\n        \"min\": 6173,\n        \"max\": 8807,\n        \"num_unique_values\": 7,\n        \"samples\": [\n          8807\n        ],\n        \"semantic_type\": \"\",\n        \"description\": \"\"\n      }\n    },\n    {\n      \"column\": \"Completeness (%)\",\n      \"properties\": {\n        \"dtype\": \"string\",\n        \"num_unique_values\": 7,\n        \"samples\": [\n          \"100.000%\"\n        ],\n        \"semantic_type\": \"\",\n        \"description\": \"\"\n      }\n    },\n    {\n      \"column\": \"Cardinality\",\n      \"properties\": {\n        \"dtype\": \"number\",\n        \"std\": 3921,\n        \"min\": 2,\n        \"max\": 8807,\n        \"num_unique_values\": 11,\n        \"samples\": [\n          1768\n        ],\n        \"semantic_type\": \"\",\n        \"description\": \"\"\n      }\n    },\n    {\n      \"column\": \"Uniqueness (%)\",\n      \"properties\": {\n        \"dtype\": \"string\",\n        \"num_unique_values\": 11,\n        \"samples\": [\n          \"20.098%\"\n        ],\n        \"semantic_type\": \"\",\n        \"description\": \"\"\n      }\n    },\n    {\n      \"column\": \"Distinctness (%)\",\n      \"properties\": {\n        \"dtype\": \"string\",\n        \"num_unique_values\": 11,\n        \"samples\": [\n          \"20.075%\"\n        ],\n        \"semantic_type\": \"\",\n        \"description\": \"\"\n      }\n    }\n  ]\n}"
            }
          },
          "metadata": {},
          "execution_count": 4
        }
      ]
    },
    {
      "cell_type": "markdown",
      "source": [
        "Vì một số thuộc tính có Completeness tương đối thấp (~70%) nên không tiền xử lý dự liệu bằng cách xoá các dòng dữ liệu trống, thay vào đó, nhóm quyết định lấp đầy các chỗ trống với kiểu dữ liệu phù hợp\n"
      ],
      "metadata": {
        "id": "5RAknq6U3bfF"
      }
    },
    {
      "cell_type": "markdown",
      "source": [
        "###2. Details"
      ],
      "metadata": {
        "id": "CViL7dnnOB9H"
      }
    },
    {
      "cell_type": "code",
      "source": [
        "def analyze_column(df, column):\n",
        "    from termcolor import colored\n",
        "    from IPython.display import Markdown, display\n",
        "    import pandas as pd\n",
        "\n",
        "    col_data = df[column]\n",
        "    total = len(col_data)\n",
        "    actual = col_data.notnull().sum()\n",
        "    missing = col_data.isnull().sum()\n",
        "    completeness = round(actual / total * 100, 2)\n",
        "    cardinality = col_data.nunique()\n",
        "    uniqueness = round((col_data.value_counts() == 1).sum() / actual * 100, 2)\n",
        "    distinctness = round(cardinality / actual * 100, 2)\n",
        "    min_len = col_data.dropna().astype(str).apply(len).min()\n",
        "    max_len = col_data.dropna().astype(str).apply(len).max()\n",
        "    data_type = col_data.dropna().map(type).mode()[0].__name__ if actual > 0 else 'unknown'\n",
        "    sample_val = str(col_data.dropna().astype(str).iloc[0]) if actual > 0 else ''\n",
        "    field_format = ''.join(['n' if c.isdigit() else 'x' for c in sample_val])\n",
        "    top5 = col_data.value_counts().head(5)\n",
        "\n",
        "    def print_section(title):\n",
        "        display(Markdown(f\"### <span style='color:#2e6cbb'>{title}</span>\"))\n",
        "\n",
        "    def print_kv(label, value):\n",
        "        print(f\"{label:<32}: {value}\")\n",
        "        print(\"-\" * 50)\n",
        "\n",
        "    print_section(f\"🔎 INPUT METADATA — {column.upper()}\")\n",
        "    print_kv(\"Field Name\", column)\n",
        "    print_kv(\"Field Data Type\", data_type.upper())\n",
        "    print_kv(\"Field Format\", field_format)\n",
        "    print_kv(\"Field Length\", max_len)\n",
        "\n",
        "    print_section(\"📊 DATA PROFILING SUMMARY STATISTICS\")\n",
        "    print_kv(\"NULL\", 0)\n",
        "    print_kv(\"Missing\", missing)\n",
        "    print_kv(\"Actual\", actual)\n",
        "    print_kv(\"Completeness\", f\"{completeness}%\")\n",
        "    print_kv(\"Cardinality\", cardinality)\n",
        "    print_kv(\"Uniqueness\", f\"{uniqueness}%\")\n",
        "    print_kv(\"Distinctness\", f\"{distinctness}%\")\n",
        "\n",
        "    print_section(\"📐 DATA PROFILING ADDITIONAL STATISTICS\")\n",
        "    print_kv(\"Field Data Types\", 1)\n",
        "    print_kv(\"Field Length (MIN)\", min_len)\n",
        "    print_kv(\"Field Length (MAX)\", max_len)\n",
        "    if pd.api.types.is_numeric_dtype(col_data.dropna()):\n",
        "        print_kv(\"Field Value (MIN)\", col_data.min())\n",
        "        print_kv(\"Field Value (MAX)\", col_data.max())\n",
        "\n",
        "    print_section(f\"⭐ {column.upper()} — TOP 5 VALUES\")\n",
        "    print(f\"{'Value':<30}{'Count':>10}{'Percentage':>12}\")\n",
        "    print(\"-\" * 55)\n",
        "    for val, count in top5.items():\n",
        "        percent = round(count / total * 100, 2)\n",
        "        val_str = str(val)[:30]\n",
        "        print(f\"{val_str:<30}{count:>10}{percent:>12}%\")\n"
      ],
      "metadata": {
        "id": "yMB4sPAkV51g"
      },
      "execution_count": null,
      "outputs": []
    },
    {
      "cell_type": "markdown",
      "source": [
        "####2.1. show_id"
      ],
      "metadata": {
        "id": "QX6yZoHMVvgs"
      }
    },
    {
      "cell_type": "markdown",
      "source": [
        "####2.1. show_id"
      ],
      "metadata": {
        "id": "HfIJcNL_x0Jc"
      }
    },
    {
      "cell_type": "code",
      "source": [
        "#viết hàm thực thi cho thuộc tính show_id của df\n",
        "analyze_column(df, 'show_id')\n"
      ],
      "metadata": {
        "colab": {
          "base_uri": "https://localhost:8080/",
          "height": 805
        },
        "id": "XB0qX5qcah4I",
        "outputId": "97a6aa40-e4cd-4b1f-9420-fa42bc93a916"
      },
      "execution_count": null,
      "outputs": [
        {
          "output_type": "display_data",
          "data": {
            "text/plain": [
              "<IPython.core.display.Markdown object>"
            ],
            "text/markdown": "### <span style='color:#2e6cbb'>🔎 INPUT METADATA — SHOW_ID</span>"
          },
          "metadata": {}
        },
        {
          "output_type": "stream",
          "name": "stdout",
          "text": [
            "Field Name                      : show_id\n",
            "--------------------------------------------------\n",
            "Field Data Type                 : STR\n",
            "--------------------------------------------------\n",
            "Field Format                    : xn\n",
            "--------------------------------------------------\n",
            "Field Length                    : 5\n",
            "--------------------------------------------------\n"
          ]
        },
        {
          "output_type": "display_data",
          "data": {
            "text/plain": [
              "<IPython.core.display.Markdown object>"
            ],
            "text/markdown": "### <span style='color:#2e6cbb'>📊 DATA PROFILING SUMMARY STATISTICS</span>"
          },
          "metadata": {}
        },
        {
          "output_type": "stream",
          "name": "stdout",
          "text": [
            "NULL                            : 0\n",
            "--------------------------------------------------\n",
            "Missing                         : 0\n",
            "--------------------------------------------------\n",
            "Actual                          : 8807\n",
            "--------------------------------------------------\n",
            "Completeness                    : 100.0%\n",
            "--------------------------------------------------\n",
            "Cardinality                     : 8807\n",
            "--------------------------------------------------\n",
            "Uniqueness                      : 100.0%\n",
            "--------------------------------------------------\n",
            "Distinctness                    : 100.0%\n",
            "--------------------------------------------------\n"
          ]
        },
        {
          "output_type": "display_data",
          "data": {
            "text/plain": [
              "<IPython.core.display.Markdown object>"
            ],
            "text/markdown": "### <span style='color:#2e6cbb'>📐 DATA PROFILING ADDITIONAL STATISTICS</span>"
          },
          "metadata": {}
        },
        {
          "output_type": "stream",
          "name": "stdout",
          "text": [
            "Field Data Types                : 1\n",
            "--------------------------------------------------\n",
            "Field Length (MIN)              : 2\n",
            "--------------------------------------------------\n",
            "Field Length (MAX)              : 5\n",
            "--------------------------------------------------\n"
          ]
        },
        {
          "output_type": "display_data",
          "data": {
            "text/plain": [
              "<IPython.core.display.Markdown object>"
            ],
            "text/markdown": "### <span style='color:#2e6cbb'>⭐ SHOW_ID — TOP 5 VALUES</span>"
          },
          "metadata": {}
        },
        {
          "output_type": "stream",
          "name": "stdout",
          "text": [
            "Value                              Count  Percentage\n",
            "-------------------------------------------------------\n",
            "s8807                                  1        0.01%\n",
            "s1                                     1        0.01%\n",
            "s2                                     1        0.01%\n",
            "s3                                     1        0.01%\n",
            "s4                                     1        0.01%\n"
          ]
        }
      ]
    },
    {
      "cell_type": "markdown",
      "source": [
        "####2.2. type"
      ],
      "metadata": {
        "id": "CcX-QoPlx7ku"
      }
    },
    {
      "cell_type": "code",
      "source": [
        "analyze_column(df, 'type')"
      ],
      "metadata": {
        "colab": {
          "base_uri": "https://localhost:8080/",
          "height": 751
        },
        "id": "5VipJWshx6us",
        "outputId": "90fc939e-7405-452e-c31d-b844a00777ac"
      },
      "execution_count": null,
      "outputs": [
        {
          "output_type": "display_data",
          "data": {
            "text/plain": [
              "<IPython.core.display.Markdown object>"
            ],
            "text/markdown": "### <span style='color:#2e6cbb'>🔎 INPUT METADATA — TYPE</span>"
          },
          "metadata": {}
        },
        {
          "output_type": "stream",
          "name": "stdout",
          "text": [
            "Field Name                      : type\n",
            "--------------------------------------------------\n",
            "Field Data Type                 : STR\n",
            "--------------------------------------------------\n",
            "Field Format                    : xxxxx\n",
            "--------------------------------------------------\n",
            "Field Length                    : 7\n",
            "--------------------------------------------------\n"
          ]
        },
        {
          "output_type": "display_data",
          "data": {
            "text/plain": [
              "<IPython.core.display.Markdown object>"
            ],
            "text/markdown": "### <span style='color:#2e6cbb'>📊 DATA PROFILING SUMMARY STATISTICS</span>"
          },
          "metadata": {}
        },
        {
          "output_type": "stream",
          "name": "stdout",
          "text": [
            "NULL                            : 0\n",
            "--------------------------------------------------\n",
            "Missing                         : 0\n",
            "--------------------------------------------------\n",
            "Actual                          : 8807\n",
            "--------------------------------------------------\n",
            "Completeness                    : 100.0%\n",
            "--------------------------------------------------\n",
            "Cardinality                     : 2\n",
            "--------------------------------------------------\n",
            "Uniqueness                      : 0.0%\n",
            "--------------------------------------------------\n",
            "Distinctness                    : 0.02%\n",
            "--------------------------------------------------\n"
          ]
        },
        {
          "output_type": "display_data",
          "data": {
            "text/plain": [
              "<IPython.core.display.Markdown object>"
            ],
            "text/markdown": "### <span style='color:#2e6cbb'>📐 DATA PROFILING ADDITIONAL STATISTICS</span>"
          },
          "metadata": {}
        },
        {
          "output_type": "stream",
          "name": "stdout",
          "text": [
            "Field Data Types                : 1\n",
            "--------------------------------------------------\n",
            "Field Length (MIN)              : 5\n",
            "--------------------------------------------------\n",
            "Field Length (MAX)              : 7\n",
            "--------------------------------------------------\n"
          ]
        },
        {
          "output_type": "display_data",
          "data": {
            "text/plain": [
              "<IPython.core.display.Markdown object>"
            ],
            "text/markdown": "### <span style='color:#2e6cbb'>⭐ TYPE — TOP 5 VALUES</span>"
          },
          "metadata": {}
        },
        {
          "output_type": "stream",
          "name": "stdout",
          "text": [
            "Value                              Count  Percentage\n",
            "-------------------------------------------------------\n",
            "Movie                               6131       69.62%\n",
            "TV Show                             2676       30.38%\n"
          ]
        }
      ]
    },
    {
      "cell_type": "markdown",
      "source": [
        "###2.3. title"
      ],
      "metadata": {
        "id": "zEc1MWv50LLq"
      }
    },
    {
      "cell_type": "code",
      "source": [
        "analyze_column(df, 'title')"
      ],
      "metadata": {
        "colab": {
          "base_uri": "https://localhost:8080/",
          "height": 805
        },
        "id": "ve58NykR0Lyv",
        "outputId": "3aee4696-5fff-4300-9a90-0dd612b56682"
      },
      "execution_count": null,
      "outputs": [
        {
          "output_type": "display_data",
          "data": {
            "text/plain": [
              "<IPython.core.display.Markdown object>"
            ],
            "text/markdown": "### <span style='color:#2e6cbb'>🔎 INPUT METADATA — TITLE</span>"
          },
          "metadata": {}
        },
        {
          "output_type": "stream",
          "name": "stdout",
          "text": [
            "Field Name                      : title\n",
            "--------------------------------------------------\n",
            "Field Data Type                 : STR\n",
            "--------------------------------------------------\n",
            "Field Format                    : xxxxxxxxxxxxxxxxxxxx\n",
            "--------------------------------------------------\n",
            "Field Length                    : 104\n",
            "--------------------------------------------------\n"
          ]
        },
        {
          "output_type": "display_data",
          "data": {
            "text/plain": [
              "<IPython.core.display.Markdown object>"
            ],
            "text/markdown": "### <span style='color:#2e6cbb'>📊 DATA PROFILING SUMMARY STATISTICS</span>"
          },
          "metadata": {}
        },
        {
          "output_type": "stream",
          "name": "stdout",
          "text": [
            "NULL                            : 0\n",
            "--------------------------------------------------\n",
            "Missing                         : 0\n",
            "--------------------------------------------------\n",
            "Actual                          : 8807\n",
            "--------------------------------------------------\n",
            "Completeness                    : 100.0%\n",
            "--------------------------------------------------\n",
            "Cardinality                     : 8807\n",
            "--------------------------------------------------\n",
            "Uniqueness                      : 100.0%\n",
            "--------------------------------------------------\n",
            "Distinctness                    : 100.0%\n",
            "--------------------------------------------------\n"
          ]
        },
        {
          "output_type": "display_data",
          "data": {
            "text/plain": [
              "<IPython.core.display.Markdown object>"
            ],
            "text/markdown": "### <span style='color:#2e6cbb'>📐 DATA PROFILING ADDITIONAL STATISTICS</span>"
          },
          "metadata": {}
        },
        {
          "output_type": "stream",
          "name": "stdout",
          "text": [
            "Field Data Types                : 1\n",
            "--------------------------------------------------\n",
            "Field Length (MIN)              : 1\n",
            "--------------------------------------------------\n",
            "Field Length (MAX)              : 104\n",
            "--------------------------------------------------\n"
          ]
        },
        {
          "output_type": "display_data",
          "data": {
            "text/plain": [
              "<IPython.core.display.Markdown object>"
            ],
            "text/markdown": "### <span style='color:#2e6cbb'>⭐ TITLE — TOP 5 VALUES</span>"
          },
          "metadata": {}
        },
        {
          "output_type": "stream",
          "name": "stdout",
          "text": [
            "Value                              Count  Percentage\n",
            "-------------------------------------------------------\n",
            "Zubaan                                 1        0.01%\n",
            "Dick Johnson Is Dead                   1        0.01%\n",
            "Blood & Water                          1        0.01%\n",
            "Ganglands                              1        0.01%\n",
            "Jailbirds New Orleans                  1        0.01%\n"
          ]
        }
      ]
    },
    {
      "cell_type": "markdown",
      "source": [
        "###2.4. director"
      ],
      "metadata": {
        "id": "poAKiyld0hxJ"
      }
    },
    {
      "cell_type": "code",
      "source": [
        "analyze_column(df, 'director')"
      ],
      "metadata": {
        "colab": {
          "base_uri": "https://localhost:8080/",
          "height": 805
        },
        "id": "rhvjH0dR0N2P",
        "outputId": "710e7efa-f780-4b1a-b49f-7ede434dd044"
      },
      "execution_count": null,
      "outputs": [
        {
          "output_type": "display_data",
          "data": {
            "text/plain": [
              "<IPython.core.display.Markdown object>"
            ],
            "text/markdown": "### <span style='color:#2e6cbb'>🔎 INPUT METADATA — DIRECTOR</span>"
          },
          "metadata": {}
        },
        {
          "output_type": "stream",
          "name": "stdout",
          "text": [
            "Field Name                      : director\n",
            "--------------------------------------------------\n",
            "Field Data Type                 : STR\n",
            "--------------------------------------------------\n",
            "Field Format                    : xxxxxxxxxxxxxxx\n",
            "--------------------------------------------------\n",
            "Field Length                    : 208\n",
            "--------------------------------------------------\n"
          ]
        },
        {
          "output_type": "display_data",
          "data": {
            "text/plain": [
              "<IPython.core.display.Markdown object>"
            ],
            "text/markdown": "### <span style='color:#2e6cbb'>📊 DATA PROFILING SUMMARY STATISTICS</span>"
          },
          "metadata": {}
        },
        {
          "output_type": "stream",
          "name": "stdout",
          "text": [
            "NULL                            : 0\n",
            "--------------------------------------------------\n",
            "Missing                         : 0\n",
            "--------------------------------------------------\n",
            "Actual                          : 8807\n",
            "--------------------------------------------------\n",
            "Completeness                    : 100.0%\n",
            "--------------------------------------------------\n",
            "Cardinality                     : 4529\n",
            "--------------------------------------------------\n",
            "Uniqueness                      : 41.57%\n",
            "--------------------------------------------------\n",
            "Distinctness                    : 51.43%\n",
            "--------------------------------------------------\n"
          ]
        },
        {
          "output_type": "display_data",
          "data": {
            "text/plain": [
              "<IPython.core.display.Markdown object>"
            ],
            "text/markdown": "### <span style='color:#2e6cbb'>📐 DATA PROFILING ADDITIONAL STATISTICS</span>"
          },
          "metadata": {}
        },
        {
          "output_type": "stream",
          "name": "stdout",
          "text": [
            "Field Data Types                : 1\n",
            "--------------------------------------------------\n",
            "Field Length (MIN)              : 0\n",
            "--------------------------------------------------\n",
            "Field Length (MAX)              : 208\n",
            "--------------------------------------------------\n"
          ]
        },
        {
          "output_type": "display_data",
          "data": {
            "text/plain": [
              "<IPython.core.display.Markdown object>"
            ],
            "text/markdown": "### <span style='color:#2e6cbb'>⭐ DIRECTOR — TOP 5 VALUES</span>"
          },
          "metadata": {}
        },
        {
          "output_type": "stream",
          "name": "stdout",
          "text": [
            "Value                              Count  Percentage\n",
            "-------------------------------------------------------\n",
            "                                    2634       29.91%\n",
            "Rajiv Chilaka                         19        0.22%\n",
            "Raúl Campos, Jan Suter                18         0.2%\n",
            "Suhas Kadav                           16        0.18%\n",
            "Marcus Raboy                          16        0.18%\n"
          ]
        }
      ]
    },
    {
      "cell_type": "markdown",
      "source": [
        "###2.5 cast"
      ],
      "metadata": {
        "id": "E76aVyZ30mxq"
      }
    },
    {
      "cell_type": "code",
      "source": [
        "analyze_column(df, 'cast')"
      ],
      "metadata": {
        "colab": {
          "base_uri": "https://localhost:8080/",
          "height": 805
        },
        "id": "xF8kV7rM0O-a",
        "outputId": "35cf52dd-2e46-404b-f331-7f936e186abb"
      },
      "execution_count": null,
      "outputs": [
        {
          "output_type": "display_data",
          "data": {
            "text/plain": [
              "<IPython.core.display.Markdown object>"
            ],
            "text/markdown": "### <span style='color:#2e6cbb'>🔎 INPUT METADATA — CAST</span>"
          },
          "metadata": {}
        },
        {
          "output_type": "stream",
          "name": "stdout",
          "text": [
            "Field Name                      : cast\n",
            "--------------------------------------------------\n",
            "Field Data Type                 : STR\n",
            "--------------------------------------------------\n",
            "Field Format                    : \n",
            "--------------------------------------------------\n",
            "Field Length                    : 771\n",
            "--------------------------------------------------\n"
          ]
        },
        {
          "output_type": "display_data",
          "data": {
            "text/plain": [
              "<IPython.core.display.Markdown object>"
            ],
            "text/markdown": "### <span style='color:#2e6cbb'>📊 DATA PROFILING SUMMARY STATISTICS</span>"
          },
          "metadata": {}
        },
        {
          "output_type": "stream",
          "name": "stdout",
          "text": [
            "NULL                            : 0\n",
            "--------------------------------------------------\n",
            "Missing                         : 0\n",
            "--------------------------------------------------\n",
            "Actual                          : 8807\n",
            "--------------------------------------------------\n",
            "Completeness                    : 100.0%\n",
            "--------------------------------------------------\n",
            "Cardinality                     : 7693\n",
            "--------------------------------------------------\n",
            "Uniqueness                      : 85.45%\n",
            "--------------------------------------------------\n",
            "Distinctness                    : 87.35%\n",
            "--------------------------------------------------\n"
          ]
        },
        {
          "output_type": "display_data",
          "data": {
            "text/plain": [
              "<IPython.core.display.Markdown object>"
            ],
            "text/markdown": "### <span style='color:#2e6cbb'>📐 DATA PROFILING ADDITIONAL STATISTICS</span>"
          },
          "metadata": {}
        },
        {
          "output_type": "stream",
          "name": "stdout",
          "text": [
            "Field Data Types                : 1\n",
            "--------------------------------------------------\n",
            "Field Length (MIN)              : 0\n",
            "--------------------------------------------------\n",
            "Field Length (MAX)              : 771\n",
            "--------------------------------------------------\n"
          ]
        },
        {
          "output_type": "display_data",
          "data": {
            "text/plain": [
              "<IPython.core.display.Markdown object>"
            ],
            "text/markdown": "### <span style='color:#2e6cbb'>⭐ CAST — TOP 5 VALUES</span>"
          },
          "metadata": {}
        },
        {
          "output_type": "stream",
          "name": "stdout",
          "text": [
            "Value                              Count  Percentage\n",
            "-------------------------------------------------------\n",
            "                                     825        9.37%\n",
            "David Attenborough                    19        0.22%\n",
            "Vatsal Dubey, Julie Tejwani, R        14        0.16%\n",
            "Samuel West                           10        0.11%\n",
            "Jeff Dunham                            7        0.08%\n"
          ]
        }
      ]
    },
    {
      "cell_type": "markdown",
      "source": [
        "###2.6 country"
      ],
      "metadata": {
        "id": "CifErYzA0rPA"
      }
    },
    {
      "cell_type": "code",
      "source": [
        "analyze_column(df, 'country')"
      ],
      "metadata": {
        "colab": {
          "base_uri": "https://localhost:8080/",
          "height": 805
        },
        "id": "gAadrsOM0Qa0",
        "outputId": "8fe8b44e-2d7d-4416-c80a-322b6b676e58"
      },
      "execution_count": null,
      "outputs": [
        {
          "output_type": "display_data",
          "data": {
            "text/plain": [
              "<IPython.core.display.Markdown object>"
            ],
            "text/markdown": "### <span style='color:#2e6cbb'>🔎 INPUT METADATA — COUNTRY</span>"
          },
          "metadata": {}
        },
        {
          "output_type": "stream",
          "name": "stdout",
          "text": [
            "Field Name                      : country\n",
            "--------------------------------------------------\n",
            "Field Data Type                 : STR\n",
            "--------------------------------------------------\n",
            "Field Format                    : xxxxxxxxxxxxx\n",
            "--------------------------------------------------\n",
            "Field Length                    : 123\n",
            "--------------------------------------------------\n"
          ]
        },
        {
          "output_type": "display_data",
          "data": {
            "text/plain": [
              "<IPython.core.display.Markdown object>"
            ],
            "text/markdown": "### <span style='color:#2e6cbb'>📊 DATA PROFILING SUMMARY STATISTICS</span>"
          },
          "metadata": {}
        },
        {
          "output_type": "stream",
          "name": "stdout",
          "text": [
            "NULL                            : 0\n",
            "--------------------------------------------------\n",
            "Missing                         : 0\n",
            "--------------------------------------------------\n",
            "Actual                          : 8807\n",
            "--------------------------------------------------\n",
            "Completeness                    : 100.0%\n",
            "--------------------------------------------------\n",
            "Cardinality                     : 749\n",
            "--------------------------------------------------\n",
            "Uniqueness                      : 6.39%\n",
            "--------------------------------------------------\n",
            "Distinctness                    : 8.5%\n",
            "--------------------------------------------------\n"
          ]
        },
        {
          "output_type": "display_data",
          "data": {
            "text/plain": [
              "<IPython.core.display.Markdown object>"
            ],
            "text/markdown": "### <span style='color:#2e6cbb'>📐 DATA PROFILING ADDITIONAL STATISTICS</span>"
          },
          "metadata": {}
        },
        {
          "output_type": "stream",
          "name": "stdout",
          "text": [
            "Field Data Types                : 1\n",
            "--------------------------------------------------\n",
            "Field Length (MIN)              : 0\n",
            "--------------------------------------------------\n",
            "Field Length (MAX)              : 123\n",
            "--------------------------------------------------\n"
          ]
        },
        {
          "output_type": "display_data",
          "data": {
            "text/plain": [
              "<IPython.core.display.Markdown object>"
            ],
            "text/markdown": "### <span style='color:#2e6cbb'>⭐ COUNTRY — TOP 5 VALUES</span>"
          },
          "metadata": {}
        },
        {
          "output_type": "stream",
          "name": "stdout",
          "text": [
            "Value                              Count  Percentage\n",
            "-------------------------------------------------------\n",
            "United States                       2818        32.0%\n",
            "India                                972       11.04%\n",
            "                                     831        9.44%\n",
            "United Kingdom                       419        4.76%\n",
            "Japan                                245        2.78%\n"
          ]
        }
      ]
    },
    {
      "cell_type": "markdown",
      "source": [
        "###2.7 date_added"
      ],
      "metadata": {
        "id": "QjGwEEQl0ujt"
      }
    },
    {
      "cell_type": "code",
      "source": [
        "analyze_column(df, 'date_added')"
      ],
      "metadata": {
        "colab": {
          "base_uri": "https://localhost:8080/",
          "height": 805
        },
        "id": "oFM-N1zd0RHx",
        "outputId": "8cdb1a36-87a9-4da4-cfe0-a9aefa4b039c"
      },
      "execution_count": null,
      "outputs": [
        {
          "output_type": "display_data",
          "data": {
            "text/plain": [
              "<IPython.core.display.Markdown object>"
            ],
            "text/markdown": "### <span style='color:#2e6cbb'>🔎 INPUT METADATA — DATE_ADDED</span>"
          },
          "metadata": {}
        },
        {
          "output_type": "stream",
          "name": "stdout",
          "text": [
            "Field Name                      : date_added\n",
            "--------------------------------------------------\n",
            "Field Data Type                 : STR\n",
            "--------------------------------------------------\n",
            "Field Format                    : xxxxxxxxxxnnxxnnnn\n",
            "--------------------------------------------------\n",
            "Field Length                    : 19\n",
            "--------------------------------------------------\n"
          ]
        },
        {
          "output_type": "display_data",
          "data": {
            "text/plain": [
              "<IPython.core.display.Markdown object>"
            ],
            "text/markdown": "### <span style='color:#2e6cbb'>📊 DATA PROFILING SUMMARY STATISTICS</span>"
          },
          "metadata": {}
        },
        {
          "output_type": "stream",
          "name": "stdout",
          "text": [
            "NULL                            : 0\n",
            "--------------------------------------------------\n",
            "Missing                         : 0\n",
            "--------------------------------------------------\n",
            "Actual                          : 8807\n",
            "--------------------------------------------------\n",
            "Completeness                    : 100.0%\n",
            "--------------------------------------------------\n",
            "Cardinality                     : 1768\n",
            "--------------------------------------------------\n",
            "Uniqueness                      : 6.21%\n",
            "--------------------------------------------------\n",
            "Distinctness                    : 20.07%\n",
            "--------------------------------------------------\n"
          ]
        },
        {
          "output_type": "display_data",
          "data": {
            "text/plain": [
              "<IPython.core.display.Markdown object>"
            ],
            "text/markdown": "### <span style='color:#2e6cbb'>📐 DATA PROFILING ADDITIONAL STATISTICS</span>"
          },
          "metadata": {}
        },
        {
          "output_type": "stream",
          "name": "stdout",
          "text": [
            "Field Data Types                : 1\n",
            "--------------------------------------------------\n",
            "Field Length (MIN)              : 0\n",
            "--------------------------------------------------\n",
            "Field Length (MAX)              : 19\n",
            "--------------------------------------------------\n"
          ]
        },
        {
          "output_type": "display_data",
          "data": {
            "text/plain": [
              "<IPython.core.display.Markdown object>"
            ],
            "text/markdown": "### <span style='color:#2e6cbb'>⭐ DATE_ADDED — TOP 5 VALUES</span>"
          },
          "metadata": {}
        },
        {
          "output_type": "stream",
          "name": "stdout",
          "text": [
            "Value                              Count  Percentage\n",
            "-------------------------------------------------------\n",
            "January 1, 2020                      109        1.24%\n",
            "November 1, 2019                      89        1.01%\n",
            "March 1, 2018                         75        0.85%\n",
            "December 31, 2019                     74        0.84%\n",
            "October 1, 2018                       71        0.81%\n"
          ]
        }
      ]
    },
    {
      "cell_type": "markdown",
      "source": [
        "###2.8 release_year"
      ],
      "metadata": {
        "id": "8slVXmub0zc-"
      }
    },
    {
      "cell_type": "code",
      "source": [
        "analyze_column(df, 'release_year')"
      ],
      "metadata": {
        "colab": {
          "base_uri": "https://localhost:8080/",
          "height": 876
        },
        "id": "_zUQxY_10Ta3",
        "outputId": "9c9d3dcd-3155-4dcf-b0ec-9d5a5fafa00b"
      },
      "execution_count": null,
      "outputs": [
        {
          "output_type": "display_data",
          "data": {
            "text/plain": [
              "<IPython.core.display.Markdown object>"
            ],
            "text/markdown": "### <span style='color:#2e6cbb'>🔎 INPUT METADATA — RELEASE_YEAR</span>"
          },
          "metadata": {}
        },
        {
          "output_type": "stream",
          "name": "stdout",
          "text": [
            "Field Name                      : release_year\n",
            "--------------------------------------------------\n",
            "Field Data Type                 : INT\n",
            "--------------------------------------------------\n",
            "Field Format                    : nnnn\n",
            "--------------------------------------------------\n",
            "Field Length                    : 4\n",
            "--------------------------------------------------\n"
          ]
        },
        {
          "output_type": "display_data",
          "data": {
            "text/plain": [
              "<IPython.core.display.Markdown object>"
            ],
            "text/markdown": "### <span style='color:#2e6cbb'>📊 DATA PROFILING SUMMARY STATISTICS</span>"
          },
          "metadata": {}
        },
        {
          "output_type": "stream",
          "name": "stdout",
          "text": [
            "NULL                            : 0\n",
            "--------------------------------------------------\n",
            "Missing                         : 0\n",
            "--------------------------------------------------\n",
            "Actual                          : 8807\n",
            "--------------------------------------------------\n",
            "Completeness                    : 100.0%\n",
            "--------------------------------------------------\n",
            "Cardinality                     : 74\n",
            "--------------------------------------------------\n",
            "Uniqueness                      : 0.06%\n",
            "--------------------------------------------------\n",
            "Distinctness                    : 0.84%\n",
            "--------------------------------------------------\n"
          ]
        },
        {
          "output_type": "display_data",
          "data": {
            "text/plain": [
              "<IPython.core.display.Markdown object>"
            ],
            "text/markdown": "### <span style='color:#2e6cbb'>📐 DATA PROFILING ADDITIONAL STATISTICS</span>"
          },
          "metadata": {}
        },
        {
          "output_type": "stream",
          "name": "stdout",
          "text": [
            "Field Data Types                : 1\n",
            "--------------------------------------------------\n",
            "Field Length (MIN)              : 4\n",
            "--------------------------------------------------\n",
            "Field Length (MAX)              : 4\n",
            "--------------------------------------------------\n",
            "Field Value (MIN)               : 1925\n",
            "--------------------------------------------------\n",
            "Field Value (MAX)               : 2021\n",
            "--------------------------------------------------\n"
          ]
        },
        {
          "output_type": "display_data",
          "data": {
            "text/plain": [
              "<IPython.core.display.Markdown object>"
            ],
            "text/markdown": "### <span style='color:#2e6cbb'>⭐ RELEASE_YEAR — TOP 5 VALUES</span>"
          },
          "metadata": {}
        },
        {
          "output_type": "stream",
          "name": "stdout",
          "text": [
            "Value                              Count  Percentage\n",
            "-------------------------------------------------------\n",
            "2018                                1147       13.02%\n",
            "2017                                1032       11.72%\n",
            "2019                                1030        11.7%\n",
            "2020                                 953       10.82%\n",
            "2016                                 902       10.24%\n"
          ]
        }
      ]
    },
    {
      "cell_type": "markdown",
      "source": [
        "###2.9 rating"
      ],
      "metadata": {
        "id": "5bpraIY9024Q"
      }
    },
    {
      "cell_type": "code",
      "source": [
        "analyze_column(df, 'rating')"
      ],
      "metadata": {
        "colab": {
          "base_uri": "https://localhost:8080/",
          "height": 805
        },
        "id": "JEOncHOG0Vh4",
        "outputId": "5e2a8d1d-842b-4369-f7d2-6edee88a3e83"
      },
      "execution_count": null,
      "outputs": [
        {
          "output_type": "display_data",
          "data": {
            "text/plain": [
              "<IPython.core.display.Markdown object>"
            ],
            "text/markdown": "### <span style='color:#2e6cbb'>🔎 INPUT METADATA — RATING</span>"
          },
          "metadata": {}
        },
        {
          "output_type": "stream",
          "name": "stdout",
          "text": [
            "Field Name                      : rating\n",
            "--------------------------------------------------\n",
            "Field Data Type                 : STR\n",
            "--------------------------------------------------\n",
            "Field Format                    : xxxnn\n",
            "--------------------------------------------------\n",
            "Field Length                    : 8\n",
            "--------------------------------------------------\n"
          ]
        },
        {
          "output_type": "display_data",
          "data": {
            "text/plain": [
              "<IPython.core.display.Markdown object>"
            ],
            "text/markdown": "### <span style='color:#2e6cbb'>📊 DATA PROFILING SUMMARY STATISTICS</span>"
          },
          "metadata": {}
        },
        {
          "output_type": "stream",
          "name": "stdout",
          "text": [
            "NULL                            : 0\n",
            "--------------------------------------------------\n",
            "Missing                         : 0\n",
            "--------------------------------------------------\n",
            "Actual                          : 8807\n",
            "--------------------------------------------------\n",
            "Completeness                    : 100.0%\n",
            "--------------------------------------------------\n",
            "Cardinality                     : 18\n",
            "--------------------------------------------------\n",
            "Uniqueness                      : 0.03%\n",
            "--------------------------------------------------\n",
            "Distinctness                    : 0.2%\n",
            "--------------------------------------------------\n"
          ]
        },
        {
          "output_type": "display_data",
          "data": {
            "text/plain": [
              "<IPython.core.display.Markdown object>"
            ],
            "text/markdown": "### <span style='color:#2e6cbb'>📐 DATA PROFILING ADDITIONAL STATISTICS</span>"
          },
          "metadata": {}
        },
        {
          "output_type": "stream",
          "name": "stdout",
          "text": [
            "Field Data Types                : 1\n",
            "--------------------------------------------------\n",
            "Field Length (MIN)              : 0\n",
            "--------------------------------------------------\n",
            "Field Length (MAX)              : 8\n",
            "--------------------------------------------------\n"
          ]
        },
        {
          "output_type": "display_data",
          "data": {
            "text/plain": [
              "<IPython.core.display.Markdown object>"
            ],
            "text/markdown": "### <span style='color:#2e6cbb'>⭐ RATING — TOP 5 VALUES</span>"
          },
          "metadata": {}
        },
        {
          "output_type": "stream",
          "name": "stdout",
          "text": [
            "Value                              Count  Percentage\n",
            "-------------------------------------------------------\n",
            "TV-MA                               3207       36.41%\n",
            "TV-14                               2160       24.53%\n",
            "TV-PG                                863         9.8%\n",
            "R                                    799        9.07%\n",
            "PG-13                                490        5.56%\n"
          ]
        }
      ]
    },
    {
      "cell_type": "markdown",
      "source": [
        "###2.10 duration"
      ],
      "metadata": {
        "id": "cFRjyckO05Io"
      }
    },
    {
      "cell_type": "code",
      "source": [
        "analyze_column(df, 'duration')"
      ],
      "metadata": {
        "colab": {
          "base_uri": "https://localhost:8080/",
          "height": 805
        },
        "id": "xoXrwof10WVz",
        "outputId": "f3b35c6f-1a06-461c-e6c8-437db619987a"
      },
      "execution_count": null,
      "outputs": [
        {
          "output_type": "display_data",
          "data": {
            "text/plain": [
              "<IPython.core.display.Markdown object>"
            ],
            "text/markdown": "### <span style='color:#2e6cbb'>🔎 INPUT METADATA — DURATION</span>"
          },
          "metadata": {}
        },
        {
          "output_type": "stream",
          "name": "stdout",
          "text": [
            "Field Name                      : duration\n",
            "--------------------------------------------------\n",
            "Field Data Type                 : STR\n",
            "--------------------------------------------------\n",
            "Field Format                    : nnxxxx\n",
            "--------------------------------------------------\n",
            "Field Length                    : 10\n",
            "--------------------------------------------------\n"
          ]
        },
        {
          "output_type": "display_data",
          "data": {
            "text/plain": [
              "<IPython.core.display.Markdown object>"
            ],
            "text/markdown": "### <span style='color:#2e6cbb'>📊 DATA PROFILING SUMMARY STATISTICS</span>"
          },
          "metadata": {}
        },
        {
          "output_type": "stream",
          "name": "stdout",
          "text": [
            "NULL                            : 0\n",
            "--------------------------------------------------\n",
            "Missing                         : 0\n",
            "--------------------------------------------------\n",
            "Actual                          : 8807\n",
            "--------------------------------------------------\n",
            "Completeness                    : 100.0%\n",
            "--------------------------------------------------\n",
            "Cardinality                     : 221\n",
            "--------------------------------------------------\n",
            "Uniqueness                      : 0.37%\n",
            "--------------------------------------------------\n",
            "Distinctness                    : 2.51%\n",
            "--------------------------------------------------\n"
          ]
        },
        {
          "output_type": "display_data",
          "data": {
            "text/plain": [
              "<IPython.core.display.Markdown object>"
            ],
            "text/markdown": "### <span style='color:#2e6cbb'>📐 DATA PROFILING ADDITIONAL STATISTICS</span>"
          },
          "metadata": {}
        },
        {
          "output_type": "stream",
          "name": "stdout",
          "text": [
            "Field Data Types                : 1\n",
            "--------------------------------------------------\n",
            "Field Length (MIN)              : 0\n",
            "--------------------------------------------------\n",
            "Field Length (MAX)              : 10\n",
            "--------------------------------------------------\n"
          ]
        },
        {
          "output_type": "display_data",
          "data": {
            "text/plain": [
              "<IPython.core.display.Markdown object>"
            ],
            "text/markdown": "### <span style='color:#2e6cbb'>⭐ DURATION — TOP 5 VALUES</span>"
          },
          "metadata": {}
        },
        {
          "output_type": "stream",
          "name": "stdout",
          "text": [
            "Value                              Count  Percentage\n",
            "-------------------------------------------------------\n",
            "1 Season                            1793       20.36%\n",
            "2 Seasons                            425        4.83%\n",
            "3 Seasons                            199        2.26%\n",
            "90 min                               152        1.73%\n",
            "94 min                               146        1.66%\n"
          ]
        }
      ]
    },
    {
      "cell_type": "markdown",
      "source": [
        "###2.11 listed_in"
      ],
      "metadata": {
        "id": "bpMq76NH07T0"
      }
    },
    {
      "cell_type": "code",
      "source": [
        "analyze_column(df, 'listed_in')"
      ],
      "metadata": {
        "colab": {
          "base_uri": "https://localhost:8080/",
          "height": 805
        },
        "id": "G4xUejyF0Xhj",
        "outputId": "1876812b-fe89-45d9-df1f-a39d1a003ad7"
      },
      "execution_count": null,
      "outputs": [
        {
          "output_type": "display_data",
          "data": {
            "text/plain": [
              "<IPython.core.display.Markdown object>"
            ],
            "text/markdown": "### <span style='color:#2e6cbb'>🔎 INPUT METADATA — LISTED_IN</span>"
          },
          "metadata": {}
        },
        {
          "output_type": "stream",
          "name": "stdout",
          "text": [
            "Field Name                      : listed_in\n",
            "--------------------------------------------------\n",
            "Field Data Type                 : STR\n",
            "--------------------------------------------------\n",
            "Field Format                    : xxxxxxxxxxxxx\n",
            "--------------------------------------------------\n",
            "Field Length                    : 79\n",
            "--------------------------------------------------\n"
          ]
        },
        {
          "output_type": "display_data",
          "data": {
            "text/plain": [
              "<IPython.core.display.Markdown object>"
            ],
            "text/markdown": "### <span style='color:#2e6cbb'>📊 DATA PROFILING SUMMARY STATISTICS</span>"
          },
          "metadata": {}
        },
        {
          "output_type": "stream",
          "name": "stdout",
          "text": [
            "NULL                            : 0\n",
            "--------------------------------------------------\n",
            "Missing                         : 0\n",
            "--------------------------------------------------\n",
            "Actual                          : 8807\n",
            "--------------------------------------------------\n",
            "Completeness                    : 100.0%\n",
            "--------------------------------------------------\n",
            "Cardinality                     : 514\n",
            "--------------------------------------------------\n",
            "Uniqueness                      : 1.61%\n",
            "--------------------------------------------------\n",
            "Distinctness                    : 5.84%\n",
            "--------------------------------------------------\n"
          ]
        },
        {
          "output_type": "display_data",
          "data": {
            "text/plain": [
              "<IPython.core.display.Markdown object>"
            ],
            "text/markdown": "### <span style='color:#2e6cbb'>📐 DATA PROFILING ADDITIONAL STATISTICS</span>"
          },
          "metadata": {}
        },
        {
          "output_type": "stream",
          "name": "stdout",
          "text": [
            "Field Data Types                : 1\n",
            "--------------------------------------------------\n",
            "Field Length (MIN)              : 6\n",
            "--------------------------------------------------\n",
            "Field Length (MAX)              : 79\n",
            "--------------------------------------------------\n"
          ]
        },
        {
          "output_type": "display_data",
          "data": {
            "text/plain": [
              "<IPython.core.display.Markdown object>"
            ],
            "text/markdown": "### <span style='color:#2e6cbb'>⭐ LISTED_IN — TOP 5 VALUES</span>"
          },
          "metadata": {}
        },
        {
          "output_type": "stream",
          "name": "stdout",
          "text": [
            "Value                              Count  Percentage\n",
            "-------------------------------------------------------\n",
            "Dramas, International Movies         362        4.11%\n",
            "Documentaries                        359        4.08%\n",
            "Stand-Up Comedy                      334        3.79%\n",
            "Comedies, Dramas, Internationa       274        3.11%\n",
            "Dramas, Independent Movies, In       252        2.86%\n"
          ]
        }
      ]
    },
    {
      "cell_type": "markdown",
      "source": [
        "###2.12 description"
      ],
      "metadata": {
        "id": "GCorG7y_0-Ut"
      }
    },
    {
      "cell_type": "code",
      "source": [
        "analyze_column(df, 'description')"
      ],
      "metadata": {
        "colab": {
          "base_uri": "https://localhost:8080/",
          "height": 825
        },
        "id": "FUShLNyx0Ys4",
        "outputId": "e598931c-750f-46ae-fee3-c02154e2cbf7"
      },
      "execution_count": null,
      "outputs": [
        {
          "output_type": "display_data",
          "data": {
            "text/plain": [
              "<IPython.core.display.Markdown object>"
            ],
            "text/markdown": "### <span style='color:#2e6cbb'>🔎 INPUT METADATA — DESCRIPTION</span>"
          },
          "metadata": {}
        },
        {
          "output_type": "stream",
          "name": "stdout",
          "text": [
            "Field Name                      : description\n",
            "--------------------------------------------------\n",
            "Field Data Type                 : STR\n",
            "--------------------------------------------------\n",
            "Field Format                    : xxxxxxxxxxxxxxxxxxxxxxxxxxxxxxxxxxxxxxxxxxxxxxxxxxxxxxxxxxxxxxxxxxxxxxxxxxxxxxxxxxxxxxxxxxxxxxxxxxxxxxxxxxxxxxxxxxxxxxxxxxxxxxxxxxxxxxxxxxxxxxxxxxxxxxxx\n",
            "--------------------------------------------------\n",
            "Field Length                    : 248\n",
            "--------------------------------------------------\n"
          ]
        },
        {
          "output_type": "display_data",
          "data": {
            "text/plain": [
              "<IPython.core.display.Markdown object>"
            ],
            "text/markdown": "### <span style='color:#2e6cbb'>📊 DATA PROFILING SUMMARY STATISTICS</span>"
          },
          "metadata": {}
        },
        {
          "output_type": "stream",
          "name": "stdout",
          "text": [
            "NULL                            : 0\n",
            "--------------------------------------------------\n",
            "Missing                         : 0\n",
            "--------------------------------------------------\n",
            "Actual                          : 8807\n",
            "--------------------------------------------------\n",
            "Completeness                    : 100.0%\n",
            "--------------------------------------------------\n",
            "Cardinality                     : 8775\n",
            "--------------------------------------------------\n",
            "Uniqueness                      : 99.33%\n",
            "--------------------------------------------------\n",
            "Distinctness                    : 99.64%\n",
            "--------------------------------------------------\n"
          ]
        },
        {
          "output_type": "display_data",
          "data": {
            "text/plain": [
              "<IPython.core.display.Markdown object>"
            ],
            "text/markdown": "### <span style='color:#2e6cbb'>📐 DATA PROFILING ADDITIONAL STATISTICS</span>"
          },
          "metadata": {}
        },
        {
          "output_type": "stream",
          "name": "stdout",
          "text": [
            "Field Data Types                : 1\n",
            "--------------------------------------------------\n",
            "Field Length (MIN)              : 61\n",
            "--------------------------------------------------\n",
            "Field Length (MAX)              : 248\n",
            "--------------------------------------------------\n"
          ]
        },
        {
          "output_type": "display_data",
          "data": {
            "text/plain": [
              "<IPython.core.display.Markdown object>"
            ],
            "text/markdown": "### <span style='color:#2e6cbb'>⭐ DESCRIPTION — TOP 5 VALUES</span>"
          },
          "metadata": {}
        },
        {
          "output_type": "stream",
          "name": "stdout",
          "text": [
            "Value                              Count  Percentage\n",
            "-------------------------------------------------------\n",
            "Paranormal activity at a lush,         4        0.05%\n",
            "A surly septuagenarian gets an         3        0.03%\n",
            "Multiple women report their hu         3        0.03%\n",
            "Challenged to compose 100 song         3        0.03%\n",
            "A scheming matriarch plots to          2        0.02%\n"
          ]
        }
      ]
    },
    {
      "cell_type": "markdown",
      "source": [
        "#Pre-processing Data\n"
      ],
      "metadata": {
        "id": "K-b_0HegpiJZ"
      }
    },
    {
      "cell_type": "markdown",
      "source": [
        "###1. Xử lý các giá trị missing và dữ liệu sai định dạng, sai vị trí\n",
        "Đối với cột bị missing như ***director (đạo diễn), cast (diễn viên), country (quốc gia), date_added, rating, duration***, nhóm xử lý bằng cách thay các giá trị missing thành \"Unknown\". Riêng cột ***duration*** có 3 giá trị bị nhầm sang cột rating, nhóm chuyển data sang cột phù hợp. Ngoài ra, thuộc tính ***date_added*** cũng được định dạng lại theo dạng **dd/mm/yyyy**"
      ],
      "metadata": {
        "id": "KIeqZCKO6s05"
      }
    },
    {
      "cell_type": "code",
      "source": [
        "# Danh sách các cột cần xử lý giá trị thiếu\n",
        "cols_to_clean = ['director', 'country', 'rating', 'duration', 'date_added']\n",
        "\n",
        "# Thay thế các chuỗi rỗng hoặc chỉ có khoảng trắng bằng 'Unknown'\n",
        "df[cols_to_clean] = df[cols_to_clean].replace(r'^\\s*$', 'Unknown', regex=True)\n",
        "\n",
        "# Thay thế NaN bằng 'Unknown'\n",
        "df[cols_to_clean] = df[cols_to_clean].fillna('Unknown')\n",
        "\n",
        "# Tách xử lý theo 'min' (phim) và 'season(s)' (TV Show)\n",
        "min_mask = df['rating'].str.contains(r'\\bmin(s)?\\b', na=False, case=False)\n",
        "season_mask = df['rating'].str.contains(r'\\bseason(s)?\\b', na=False, case=False)\n",
        "\n",
        "# Với 'min' → chỉ chấp nhận nếu type là 'Movie'\n",
        "invalid_min = min_mask & (df['type'] != 'Movie')\n",
        "df.loc[invalid_min, ['rating', 'duration']] = 'Unknown'\n",
        "\n",
        "valid_min = min_mask & (df['type'] == 'Movie')\n",
        "df.loc[valid_min, 'duration'] = df.loc[valid_min, 'rating']\n",
        "df.loc[valid_min, 'rating'] = 'Unknown'\n",
        "\n",
        "# Với 'season(s)' → chỉ chấp nhận nếu type là 'TV Show'\n",
        "invalid_season = season_mask & (df['type'] != 'TV Show')\n",
        "df.loc[invalid_season, ['rating', 'duration']] = 'Unknown'\n",
        "\n",
        "valid_season = season_mask & (df['type'] == 'TV Show')\n",
        "df.loc[valid_season, 'duration'] = df.loc[valid_season, 'rating']\n",
        "df.loc[valid_season, 'rating'] = 'Unknown'\n",
        "\n",
        "# Chuẩn hóa định dạng ngày trong cột date_added\n",
        "df['date_added'] = df['date_added'].apply(\n",
        "    lambda x: pd.to_datetime(x, errors='coerce').strftime('%d/%m/%Y') if x != 'Unknown' else 'Unknown'\n",
        ")\n"
      ],
      "metadata": {
        "id": "9NAJHJq529Tk",
        "colab": {
          "base_uri": "https://localhost:8080/"
        },
        "outputId": "2b3e03de-a048-4e79-e87e-98523e542ddb"
      },
      "execution_count": null,
      "outputs": [
        {
          "output_type": "stream",
          "name": "stderr",
          "text": [
            "<ipython-input-18-f8a9d1be442c>:11: UserWarning: This pattern is interpreted as a regular expression, and has match groups. To actually get the groups, use str.extract.\n",
            "  min_mask = df['rating'].str.contains(r'\\bmin(s)?\\b', na=False, case=False)\n",
            "<ipython-input-18-f8a9d1be442c>:12: UserWarning: This pattern is interpreted as a regular expression, and has match groups. To actually get the groups, use str.extract.\n",
            "  season_mask = df['rating'].str.contains(r'\\bseason(s)?\\b', na=False, case=False)\n"
          ]
        }
      ]
    },
    {
      "cell_type": "markdown",
      "source": [
        "###2. Xử lý các thuộc tính đa trị\n",
        "Các thuộc tính đa trị bao gồm: ***director, cast, country, list_in***, nhóm xử lý bằng cách tách các cột này thành các file với 2 thuộc tính **show_id** và **<thuộc tính đa trị cần tách>**\n",
        "Ví dụ: với ***director***, ta tách thành file **movie_director**, nếu có nhiều director của cùng một phim thì tách thành nhiều dòng có chung thuộc tính ***show_id***. Làm tương tự với các thuộc tính còn lại."
      ],
      "metadata": {
        "id": "QbtxXBFCIBiT"
      }
    },
    {
      "cell_type": "code",
      "source": [
        "# Danh sách các thuộc tính đa trị\n",
        "multivalued_columns = ['director', 'cast', 'country', 'listed_in']\n",
        "\n",
        "for column in multivalued_columns:\n",
        "    # Tách thành list từng giá trị, loại bỏ khoảng trắng dư\n",
        "    df[column + '_list'] = df[column].apply(lambda x: [i.strip() for i in x.split(',') if i.strip() != ''])\n",
        "\n",
        "    # Tạo bảng phụ: show_id + từng giá trị đơn lẻ\n",
        "    exploded_df = df[['show_id', column + '_list']].explode(column + '_list')\n",
        "    exploded_df = exploded_df.rename(columns={column + '_list': column})\n",
        "\n",
        "    # Xuất ra file CSV, ghi đè nếu đã tồn tại\n",
        "    exploded_df.to_csv(f'movie_{column}.csv', index=False)\n",
        "\n",
        "# Xóa các cột gốc và cột _list đã tách ra khỏi df\n",
        "for column in multivalued_columns:\n",
        "    if column in df.columns:\n",
        "        df.drop(columns=[column], inplace=True)\n",
        "    if column + '_list' in df.columns:\n",
        "        df.drop(columns=[column + '_list'], inplace=True)\n",
        "\n",
        "print(\"✅ Đã tách và ghi file xong, đồng thời xóa các thuộc tính đã tách ra khỏi DataFrame gốc.\")\n"
      ],
      "metadata": {
        "id": "I9kOjW3JII9f",
        "colab": {
          "base_uri": "https://localhost:8080/"
        },
        "outputId": "68df1980-72fb-4676-a659-e9ab3eac274f"
      },
      "execution_count": null,
      "outputs": [
        {
          "output_type": "stream",
          "name": "stdout",
          "text": [
            "✅ Đã tách và ghi file xong, đồng thời xóa các thuộc tính đã tách ra khỏi DataFrame gốc.\n"
          ]
        }
      ]
    },
    {
      "cell_type": "markdown",
      "source": [
        "###3. Xử lý thuộc tính có nhiều loại giá trị khác nhau\n",
        "Ở thuộc tính duration, nhóm nhận thấy cột ***duration*** có hai kiểu giá trị phụ thuộc vào thuộc tính khác (***type***)\n",
        "- với phim có ***type*** là Movie: thời lượng được tính theo phút (mins)\n",
        "- với phim có ***type*** là TV Show: thời lượng được tính theo phút (season)\n",
        "Nhóm xử lý bằng cách tách file .csv ban đầu sau khi được xử lý các thuộc tính đa trị thành 2 file riêng biệt ***movie.csv*** và ***tv_show.csv***\n"
      ],
      "metadata": {
        "id": "lT-m4XjeIKD4"
      }
    },
    {
      "cell_type": "code",
      "source": [
        "# Lọc theo type\n",
        "df_movie = df[df['type'] == 'Movie'].copy()\n",
        "df_tv = df[df['type'] == 'TV Show'].copy()\n",
        "\n",
        "# Ghi ra file CSV\n",
        "df_movie.to_csv('movie.csv', index=False)\n",
        "print(\"✅ movie.csv saved at:\", os.path.abspath('movie.csv'))\n",
        "\n",
        "df_tv.to_csv('tv_show.csv', index=False)\n",
        "print(\"✅ tv_show.csv saved at:\", os.path.abspath('tv_show.csv'))\n",
        "\n",
        "# Kiểm tra các file đã ghi\n",
        "print(\"📁 Danh sách file hiện tại:\")\n",
        "print(os.listdir())"
      ],
      "metadata": {
        "id": "3tQ6M8WeKDaJ",
        "colab": {
          "base_uri": "https://localhost:8080/"
        },
        "outputId": "6dd6897a-6657-4be3-da32-426eab3fbd31"
      },
      "execution_count": null,
      "outputs": [
        {
          "output_type": "stream",
          "name": "stdout",
          "text": [
            "✅ movie.csv saved at: /content/movie.csv\n",
            "✅ tv_show.csv saved at: /content/tv_show.csv\n",
            "📁 Danh sách file hiện tại:\n",
            "['.config', 'tv_show.csv', 'movie.csv', 'movie_cast.csv', 'netflix_titles.csv', 'movie_director.csv', 'movie_listed_in.csv', 'movie_country.csv', 'sample_data']\n"
          ]
        }
      ]
    }
  ],
  "metadata": {
    "kernelspec": {
      "display_name": "Python 3",
      "language": "python",
      "name": "python3"
    },
    "language_info": {
      "codemirror_mode": {
        "name": "ipython",
        "version": 3
      },
      "file_extension": ".py",
      "mimetype": "text/x-python",
      "name": "python",
      "nbconvert_exporter": "python",
      "pygments_lexer": "ipython3",
      "version": "3.11.4"
    },
    "orig_nbformat": 4,
    "colab": {
      "provenance": [],
      "include_colab_link": true
    }
  },
  "nbformat": 4,
  "nbformat_minor": 0
}