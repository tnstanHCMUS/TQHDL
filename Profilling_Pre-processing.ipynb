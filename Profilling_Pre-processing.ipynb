{
  "cells": [
    {
      "cell_type": "markdown",
      "metadata": {
        "id": "view-in-github",
        "colab_type": "text"
      },
      "source": [
        "<a href=\"https://colab.research.google.com/github/tnstanHCMUS/TQHDL/blob/main/Profilling_Pre-processing.ipynb\" target=\"_parent\"><img src=\"https://colab.research.google.com/assets/colab-badge.svg\" alt=\"Open In Colab\"/></a>"
      ]
    },
    {
      "cell_type": "markdown",
      "metadata": {
        "id": "VIbXdZhfoNcv"
      },
      "source": [
        "#**<center>Đồ án thực hành môn trực quan hoá: DATA VISUALIZATION USING D3.JS</center>**"
      ]
    },
    {
      "cell_type": "markdown",
      "metadata": {
        "id": "K05Eu9AdoNcw"
      },
      "source": [
        "# Thông tin sinh viên\n",
        "\n",
        "- Nhóm 10:\n",
        "    + 22127163 - Trần Đan Huy\n",
        "    + 22127290 - Nguyễn Thị Thu Ngân\n",
        "    + 22127029 - Lê Nguyễn Gia Bảo\n",
        "    + 22127026 - Ôn Gia Bảo"
      ]
    },
    {
      "cell_type": "markdown",
      "metadata": {
        "id": "jdY4l1ZooNcw"
      },
      "source": [
        "# Import"
      ]
    },
    {
      "cell_type": "markdown",
      "source": [],
      "metadata": {
        "id": "LKrTkRBHpkDK"
      }
    },
    {
      "cell_type": "code",
      "execution_count": 4,
      "metadata": {
        "id": "C_keNN3RoNcx"
      },
      "outputs": [],
      "source": [
        "import pandas as pd\n",
        "import numpy as np\n",
        "import os"
      ]
    },
    {
      "cell_type": "markdown",
      "metadata": {
        "id": "LEybA7tUoNcy"
      },
      "source": [
        "# Tải csv lên hệ thống\n"
      ]
    },
    {
      "cell_type": "code",
      "source": [
        "from google.colab import files\n",
        "uploaded = files.upload()"
      ],
      "metadata": {
        "colab": {
          "base_uri": "https://localhost:8080/",
          "height": 74
        },
        "id": "VJyeoWriqI6w",
        "outputId": "6ad1e223-323e-4232-d271-9da1d4f33c24"
      },
      "execution_count": 5,
      "outputs": [
        {
          "output_type": "display_data",
          "data": {
            "text/plain": [
              "<IPython.core.display.HTML object>"
            ],
            "text/html": [
              "\n",
              "     <input type=\"file\" id=\"files-b51fd62e-de1a-4dcd-b1b8-230b3b841aca\" name=\"files[]\" multiple disabled\n",
              "        style=\"border:none\" />\n",
              "     <output id=\"result-b51fd62e-de1a-4dcd-b1b8-230b3b841aca\">\n",
              "      Upload widget is only available when the cell has been executed in the\n",
              "      current browser session. Please rerun this cell to enable.\n",
              "      </output>\n",
              "      <script>// Copyright 2017 Google LLC\n",
              "//\n",
              "// Licensed under the Apache License, Version 2.0 (the \"License\");\n",
              "// you may not use this file except in compliance with the License.\n",
              "// You may obtain a copy of the License at\n",
              "//\n",
              "//      http://www.apache.org/licenses/LICENSE-2.0\n",
              "//\n",
              "// Unless required by applicable law or agreed to in writing, software\n",
              "// distributed under the License is distributed on an \"AS IS\" BASIS,\n",
              "// WITHOUT WARRANTIES OR CONDITIONS OF ANY KIND, either express or implied.\n",
              "// See the License for the specific language governing permissions and\n",
              "// limitations under the License.\n",
              "\n",
              "/**\n",
              " * @fileoverview Helpers for google.colab Python module.\n",
              " */\n",
              "(function(scope) {\n",
              "function span(text, styleAttributes = {}) {\n",
              "  const element = document.createElement('span');\n",
              "  element.textContent = text;\n",
              "  for (const key of Object.keys(styleAttributes)) {\n",
              "    element.style[key] = styleAttributes[key];\n",
              "  }\n",
              "  return element;\n",
              "}\n",
              "\n",
              "// Max number of bytes which will be uploaded at a time.\n",
              "const MAX_PAYLOAD_SIZE = 100 * 1024;\n",
              "\n",
              "function _uploadFiles(inputId, outputId) {\n",
              "  const steps = uploadFilesStep(inputId, outputId);\n",
              "  const outputElement = document.getElementById(outputId);\n",
              "  // Cache steps on the outputElement to make it available for the next call\n",
              "  // to uploadFilesContinue from Python.\n",
              "  outputElement.steps = steps;\n",
              "\n",
              "  return _uploadFilesContinue(outputId);\n",
              "}\n",
              "\n",
              "// This is roughly an async generator (not supported in the browser yet),\n",
              "// where there are multiple asynchronous steps and the Python side is going\n",
              "// to poll for completion of each step.\n",
              "// This uses a Promise to block the python side on completion of each step,\n",
              "// then passes the result of the previous step as the input to the next step.\n",
              "function _uploadFilesContinue(outputId) {\n",
              "  const outputElement = document.getElementById(outputId);\n",
              "  const steps = outputElement.steps;\n",
              "\n",
              "  const next = steps.next(outputElement.lastPromiseValue);\n",
              "  return Promise.resolve(next.value.promise).then((value) => {\n",
              "    // Cache the last promise value to make it available to the next\n",
              "    // step of the generator.\n",
              "    outputElement.lastPromiseValue = value;\n",
              "    return next.value.response;\n",
              "  });\n",
              "}\n",
              "\n",
              "/**\n",
              " * Generator function which is called between each async step of the upload\n",
              " * process.\n",
              " * @param {string} inputId Element ID of the input file picker element.\n",
              " * @param {string} outputId Element ID of the output display.\n",
              " * @return {!Iterable<!Object>} Iterable of next steps.\n",
              " */\n",
              "function* uploadFilesStep(inputId, outputId) {\n",
              "  const inputElement = document.getElementById(inputId);\n",
              "  inputElement.disabled = false;\n",
              "\n",
              "  const outputElement = document.getElementById(outputId);\n",
              "  outputElement.innerHTML = '';\n",
              "\n",
              "  const pickedPromise = new Promise((resolve) => {\n",
              "    inputElement.addEventListener('change', (e) => {\n",
              "      resolve(e.target.files);\n",
              "    });\n",
              "  });\n",
              "\n",
              "  const cancel = document.createElement('button');\n",
              "  inputElement.parentElement.appendChild(cancel);\n",
              "  cancel.textContent = 'Cancel upload';\n",
              "  const cancelPromise = new Promise((resolve) => {\n",
              "    cancel.onclick = () => {\n",
              "      resolve(null);\n",
              "    };\n",
              "  });\n",
              "\n",
              "  // Wait for the user to pick the files.\n",
              "  const files = yield {\n",
              "    promise: Promise.race([pickedPromise, cancelPromise]),\n",
              "    response: {\n",
              "      action: 'starting',\n",
              "    }\n",
              "  };\n",
              "\n",
              "  cancel.remove();\n",
              "\n",
              "  // Disable the input element since further picks are not allowed.\n",
              "  inputElement.disabled = true;\n",
              "\n",
              "  if (!files) {\n",
              "    return {\n",
              "      response: {\n",
              "        action: 'complete',\n",
              "      }\n",
              "    };\n",
              "  }\n",
              "\n",
              "  for (const file of files) {\n",
              "    const li = document.createElement('li');\n",
              "    li.append(span(file.name, {fontWeight: 'bold'}));\n",
              "    li.append(span(\n",
              "        `(${file.type || 'n/a'}) - ${file.size} bytes, ` +\n",
              "        `last modified: ${\n",
              "            file.lastModifiedDate ? file.lastModifiedDate.toLocaleDateString() :\n",
              "                                    'n/a'} - `));\n",
              "    const percent = span('0% done');\n",
              "    li.appendChild(percent);\n",
              "\n",
              "    outputElement.appendChild(li);\n",
              "\n",
              "    const fileDataPromise = new Promise((resolve) => {\n",
              "      const reader = new FileReader();\n",
              "      reader.onload = (e) => {\n",
              "        resolve(e.target.result);\n",
              "      };\n",
              "      reader.readAsArrayBuffer(file);\n",
              "    });\n",
              "    // Wait for the data to be ready.\n",
              "    let fileData = yield {\n",
              "      promise: fileDataPromise,\n",
              "      response: {\n",
              "        action: 'continue',\n",
              "      }\n",
              "    };\n",
              "\n",
              "    // Use a chunked sending to avoid message size limits. See b/62115660.\n",
              "    let position = 0;\n",
              "    do {\n",
              "      const length = Math.min(fileData.byteLength - position, MAX_PAYLOAD_SIZE);\n",
              "      const chunk = new Uint8Array(fileData, position, length);\n",
              "      position += length;\n",
              "\n",
              "      const base64 = btoa(String.fromCharCode.apply(null, chunk));\n",
              "      yield {\n",
              "        response: {\n",
              "          action: 'append',\n",
              "          file: file.name,\n",
              "          data: base64,\n",
              "        },\n",
              "      };\n",
              "\n",
              "      let percentDone = fileData.byteLength === 0 ?\n",
              "          100 :\n",
              "          Math.round((position / fileData.byteLength) * 100);\n",
              "      percent.textContent = `${percentDone}% done`;\n",
              "\n",
              "    } while (position < fileData.byteLength);\n",
              "  }\n",
              "\n",
              "  // All done.\n",
              "  yield {\n",
              "    response: {\n",
              "      action: 'complete',\n",
              "    }\n",
              "  };\n",
              "}\n",
              "\n",
              "scope.google = scope.google || {};\n",
              "scope.google.colab = scope.google.colab || {};\n",
              "scope.google.colab._files = {\n",
              "  _uploadFiles,\n",
              "  _uploadFilesContinue,\n",
              "};\n",
              "})(self);\n",
              "</script> "
            ]
          },
          "metadata": {}
        },
        {
          "output_type": "stream",
          "name": "stdout",
          "text": [
            "Saving project_heart_disease.csv to project_heart_disease.csv\n"
          ]
        }
      ]
    },
    {
      "cell_type": "markdown",
      "metadata": {
        "id": "pPV51hYNp-5A"
      },
      "source": [
        "# Đọc dữ liệu"
      ]
    },
    {
      "cell_type": "code",
      "execution_count": 20,
      "metadata": {
        "id": "B9HhaKj0oNcy",
        "colab": {
          "base_uri": "https://localhost:8080/"
        },
        "outputId": "dc89e118-c8fa-4f4c-d1f9-b13667fdcd38"
      },
      "outputs": [
        {
          "output_type": "stream",
          "name": "stdout",
          "text": [
            "  Age Blood Pressure Cholesterol Level                 BMI\n",
            "0  56            153               155  24.991591091690363\n",
            "1  69            146               286    25.2217985244363\n",
            "2  46            126               216   29.85544714237164\n",
            "3  32            122               293  24.130476882852445\n",
            "4  60            166               242   20.48628889057518\n"
          ]
        }
      ],
      "source": [
        "import pandas as pd\n",
        "from decimal import Decimal, InvalidOperation\n",
        "\n",
        "# Đọc file, tắt tự động chuyển giá trị trống thành NaN\n",
        "df = pd.read_csv('project_heart_disease.csv', encoding='utf-8-sig', keep_default_na=False)\n",
        "\n",
        "# Hàm chuyển về int nếu có thể\n",
        "def to_int_or_keep(value):\n",
        "    try:\n",
        "        # Nếu giá trị là số thực dạng x.0, cũng ép thành int\n",
        "        if isinstance(value, str) and value.replace('.', '', 1).isdigit():\n",
        "            if '.' in value:\n",
        "                float_val = float(value)\n",
        "                if float_val.is_integer():\n",
        "                    return int(float_val)\n",
        "            return int(value)\n",
        "        elif isinstance(value, (int, float)) and float(value).is_integer():\n",
        "            return int(value)\n",
        "        else:\n",
        "            return value\n",
        "    except (ValueError, TypeError):\n",
        "        return value\n",
        "\n",
        "# Hàm chuyển về Decimal nếu có thể\n",
        "def to_decimal_or_keep(value):\n",
        "    try:\n",
        "        return Decimal(value)\n",
        "    except (InvalidOperation, ValueError, TypeError):\n",
        "        return value\n",
        "\n",
        "# Xử lý từng cột\n",
        "df['Age'] = df['Age'].apply(to_int_or_keep)\n",
        "df['Blood Pressure'] = df['Blood Pressure'].apply(to_int_or_keep)\n",
        "df['Cholesterol Level'] = df['Cholesterol Level'].apply(to_int_or_keep)\n",
        "df['BMI'] = df['BMI'].apply(to_decimal_or_keep)\n",
        "\n",
        "# Kiểm tra kết quả\n",
        "print(df[['Age', 'Blood Pressure', 'Cholesterol Level', 'BMI']].head())\n"
      ]
    },
    {
      "cell_type": "markdown",
      "source": [
        "#Data profilling"
      ],
      "metadata": {
        "id": "TCah2_r-pdEF"
      }
    },
    {
      "cell_type": "markdown",
      "source": [
        "###1. Overview"
      ],
      "metadata": {
        "id": "VKIH7okcNwGc"
      }
    },
    {
      "cell_type": "code",
      "source": [
        "# Tổng số dòng\n",
        "total_rows = len(df)\n",
        "\n",
        "# Hàm phân tích chất lượng cột\n",
        "def column_quality(col):\n",
        "    total = len(df)\n",
        "    nulls = df[col].isnull().sum()\n",
        "    missing = df[col].apply(lambda x: isinstance(x, str) and x.strip() == '').sum()\n",
        "    actual = total - nulls - missing\n",
        "    completeness = actual / total if total > 0 else 0\n",
        "\n",
        "    cardinality = df[col].nunique(dropna=True)\n",
        "\n",
        "    # Tính uniqueness và distinctness chuẩn theo định nghĩa\n",
        "    uniqueness = cardinality / total if total > 0 else 0\n",
        "    distinctness = cardinality / actual if actual > 0 else 0\n",
        "\n",
        "    dtype = df[col].dtype\n",
        "\n",
        "    return pd.Series({\n",
        "        'Data Type': dtype,\n",
        "        'Total Records': total,\n",
        "        'NULL Count': nulls,\n",
        "        'Missing Count': missing,\n",
        "        'Actual Count': actual,\n",
        "        'Completeness (%)': f\"{completeness * 100:.2f}%\",\n",
        "        'Cardinality': cardinality,\n",
        "        'Uniqueness (%)': f\"{uniqueness * 100:.2f}%\",\n",
        "        'Distinctness (%)': f\"{distinctness * 100:.2f}%\"\n",
        "    })\n",
        "\n",
        "# Áp dụng cho toàn bộ cột\n",
        "quality_df = df.columns.to_series().apply(column_quality)\n",
        "\n",
        "# Định dạng lại bảng\n",
        "quality_df = quality_df.reset_index().rename(columns={'index': 'Column'})\n",
        "quality_df.index += 1  # STT bắt đầu từ 1\n",
        "\n",
        "quality_df"
      ],
      "metadata": {
        "colab": {
          "base_uri": "https://localhost:8080/",
          "height": 481
        },
        "id": "V2FCetBiphcW",
        "outputId": "ec39f9a8-5476-4160-fddf-5c6336a16dd7"
      },
      "execution_count": 21,
      "outputs": [
        {
          "output_type": "execute_result",
          "data": {
            "text/plain": [
              "                  Column Data Type  Total Records  NULL Count  Missing Count  \\\n",
              "1                    Age    object          10000           0             29   \n",
              "2                 Gender    object          10000           0             19   \n",
              "3         Blood Pressure    object          10000           0             19   \n",
              "4      Cholesterol Level    object          10000           0             30   \n",
              "5        Exercise Habits    object          10000           0             25   \n",
              "6                Smoking    object          10000           0             25   \n",
              "7   Family Heart Disease    object          10000           0             21   \n",
              "8                    BMI    object          10000           0             22   \n",
              "9    Alcohol Consumption    object          10000           0           2586   \n",
              "10          Stress Level    object          10000           0             22   \n",
              "11  Heart Disease Status    object          10000           0              0   \n",
              "\n",
              "    Actual Count Completeness (%)  Cardinality Uniqueness (%) Distinctness (%)  \n",
              "1           9971           99.71%           64          0.64%            0.64%  \n",
              "2           9981           99.81%            3          0.03%            0.03%  \n",
              "3           9981           99.81%           62          0.62%            0.62%  \n",
              "4           9970           99.70%          152          1.52%            1.52%  \n",
              "5           9975           99.75%            4          0.04%            0.04%  \n",
              "6           9975           99.75%            3          0.03%            0.03%  \n",
              "7           9979           99.79%            3          0.03%            0.03%  \n",
              "8           9978           99.78%         9979         99.79%          100.01%  \n",
              "9           7414           74.14%            4          0.04%            0.05%  \n",
              "10          9978           99.78%            4          0.04%            0.04%  \n",
              "11         10000          100.00%            2          0.02%            0.02%  "
            ],
            "text/html": [
              "\n",
              "  <div id=\"df-9c822ebd-1b70-4875-836f-4f74c55f0844\" class=\"colab-df-container\">\n",
              "    <div>\n",
              "<style scoped>\n",
              "    .dataframe tbody tr th:only-of-type {\n",
              "        vertical-align: middle;\n",
              "    }\n",
              "\n",
              "    .dataframe tbody tr th {\n",
              "        vertical-align: top;\n",
              "    }\n",
              "\n",
              "    .dataframe thead th {\n",
              "        text-align: right;\n",
              "    }\n",
              "</style>\n",
              "<table border=\"1\" class=\"dataframe\">\n",
              "  <thead>\n",
              "    <tr style=\"text-align: right;\">\n",
              "      <th></th>\n",
              "      <th>Column</th>\n",
              "      <th>Data Type</th>\n",
              "      <th>Total Records</th>\n",
              "      <th>NULL Count</th>\n",
              "      <th>Missing Count</th>\n",
              "      <th>Actual Count</th>\n",
              "      <th>Completeness (%)</th>\n",
              "      <th>Cardinality</th>\n",
              "      <th>Uniqueness (%)</th>\n",
              "      <th>Distinctness (%)</th>\n",
              "    </tr>\n",
              "  </thead>\n",
              "  <tbody>\n",
              "    <tr>\n",
              "      <th>1</th>\n",
              "      <td>Age</td>\n",
              "      <td>object</td>\n",
              "      <td>10000</td>\n",
              "      <td>0</td>\n",
              "      <td>29</td>\n",
              "      <td>9971</td>\n",
              "      <td>99.71%</td>\n",
              "      <td>64</td>\n",
              "      <td>0.64%</td>\n",
              "      <td>0.64%</td>\n",
              "    </tr>\n",
              "    <tr>\n",
              "      <th>2</th>\n",
              "      <td>Gender</td>\n",
              "      <td>object</td>\n",
              "      <td>10000</td>\n",
              "      <td>0</td>\n",
              "      <td>19</td>\n",
              "      <td>9981</td>\n",
              "      <td>99.81%</td>\n",
              "      <td>3</td>\n",
              "      <td>0.03%</td>\n",
              "      <td>0.03%</td>\n",
              "    </tr>\n",
              "    <tr>\n",
              "      <th>3</th>\n",
              "      <td>Blood Pressure</td>\n",
              "      <td>object</td>\n",
              "      <td>10000</td>\n",
              "      <td>0</td>\n",
              "      <td>19</td>\n",
              "      <td>9981</td>\n",
              "      <td>99.81%</td>\n",
              "      <td>62</td>\n",
              "      <td>0.62%</td>\n",
              "      <td>0.62%</td>\n",
              "    </tr>\n",
              "    <tr>\n",
              "      <th>4</th>\n",
              "      <td>Cholesterol Level</td>\n",
              "      <td>object</td>\n",
              "      <td>10000</td>\n",
              "      <td>0</td>\n",
              "      <td>30</td>\n",
              "      <td>9970</td>\n",
              "      <td>99.70%</td>\n",
              "      <td>152</td>\n",
              "      <td>1.52%</td>\n",
              "      <td>1.52%</td>\n",
              "    </tr>\n",
              "    <tr>\n",
              "      <th>5</th>\n",
              "      <td>Exercise Habits</td>\n",
              "      <td>object</td>\n",
              "      <td>10000</td>\n",
              "      <td>0</td>\n",
              "      <td>25</td>\n",
              "      <td>9975</td>\n",
              "      <td>99.75%</td>\n",
              "      <td>4</td>\n",
              "      <td>0.04%</td>\n",
              "      <td>0.04%</td>\n",
              "    </tr>\n",
              "    <tr>\n",
              "      <th>6</th>\n",
              "      <td>Smoking</td>\n",
              "      <td>object</td>\n",
              "      <td>10000</td>\n",
              "      <td>0</td>\n",
              "      <td>25</td>\n",
              "      <td>9975</td>\n",
              "      <td>99.75%</td>\n",
              "      <td>3</td>\n",
              "      <td>0.03%</td>\n",
              "      <td>0.03%</td>\n",
              "    </tr>\n",
              "    <tr>\n",
              "      <th>7</th>\n",
              "      <td>Family Heart Disease</td>\n",
              "      <td>object</td>\n",
              "      <td>10000</td>\n",
              "      <td>0</td>\n",
              "      <td>21</td>\n",
              "      <td>9979</td>\n",
              "      <td>99.79%</td>\n",
              "      <td>3</td>\n",
              "      <td>0.03%</td>\n",
              "      <td>0.03%</td>\n",
              "    </tr>\n",
              "    <tr>\n",
              "      <th>8</th>\n",
              "      <td>BMI</td>\n",
              "      <td>object</td>\n",
              "      <td>10000</td>\n",
              "      <td>0</td>\n",
              "      <td>22</td>\n",
              "      <td>9978</td>\n",
              "      <td>99.78%</td>\n",
              "      <td>9979</td>\n",
              "      <td>99.79%</td>\n",
              "      <td>100.01%</td>\n",
              "    </tr>\n",
              "    <tr>\n",
              "      <th>9</th>\n",
              "      <td>Alcohol Consumption</td>\n",
              "      <td>object</td>\n",
              "      <td>10000</td>\n",
              "      <td>0</td>\n",
              "      <td>2586</td>\n",
              "      <td>7414</td>\n",
              "      <td>74.14%</td>\n",
              "      <td>4</td>\n",
              "      <td>0.04%</td>\n",
              "      <td>0.05%</td>\n",
              "    </tr>\n",
              "    <tr>\n",
              "      <th>10</th>\n",
              "      <td>Stress Level</td>\n",
              "      <td>object</td>\n",
              "      <td>10000</td>\n",
              "      <td>0</td>\n",
              "      <td>22</td>\n",
              "      <td>9978</td>\n",
              "      <td>99.78%</td>\n",
              "      <td>4</td>\n",
              "      <td>0.04%</td>\n",
              "      <td>0.04%</td>\n",
              "    </tr>\n",
              "    <tr>\n",
              "      <th>11</th>\n",
              "      <td>Heart Disease Status</td>\n",
              "      <td>object</td>\n",
              "      <td>10000</td>\n",
              "      <td>0</td>\n",
              "      <td>0</td>\n",
              "      <td>10000</td>\n",
              "      <td>100.00%</td>\n",
              "      <td>2</td>\n",
              "      <td>0.02%</td>\n",
              "      <td>0.02%</td>\n",
              "    </tr>\n",
              "  </tbody>\n",
              "</table>\n",
              "</div>\n",
              "    <div class=\"colab-df-buttons\">\n",
              "\n",
              "  <div class=\"colab-df-container\">\n",
              "    <button class=\"colab-df-convert\" onclick=\"convertToInteractive('df-9c822ebd-1b70-4875-836f-4f74c55f0844')\"\n",
              "            title=\"Convert this dataframe to an interactive table.\"\n",
              "            style=\"display:none;\">\n",
              "\n",
              "  <svg xmlns=\"http://www.w3.org/2000/svg\" height=\"24px\" viewBox=\"0 -960 960 960\">\n",
              "    <path d=\"M120-120v-720h720v720H120Zm60-500h600v-160H180v160Zm220 220h160v-160H400v160Zm0 220h160v-160H400v160ZM180-400h160v-160H180v160Zm440 0h160v-160H620v160ZM180-180h160v-160H180v160Zm440 0h160v-160H620v160Z\"/>\n",
              "  </svg>\n",
              "    </button>\n",
              "\n",
              "  <style>\n",
              "    .colab-df-container {\n",
              "      display:flex;\n",
              "      gap: 12px;\n",
              "    }\n",
              "\n",
              "    .colab-df-convert {\n",
              "      background-color: #E8F0FE;\n",
              "      border: none;\n",
              "      border-radius: 50%;\n",
              "      cursor: pointer;\n",
              "      display: none;\n",
              "      fill: #1967D2;\n",
              "      height: 32px;\n",
              "      padding: 0 0 0 0;\n",
              "      width: 32px;\n",
              "    }\n",
              "\n",
              "    .colab-df-convert:hover {\n",
              "      background-color: #E2EBFA;\n",
              "      box-shadow: 0px 1px 2px rgba(60, 64, 67, 0.3), 0px 1px 3px 1px rgba(60, 64, 67, 0.15);\n",
              "      fill: #174EA6;\n",
              "    }\n",
              "\n",
              "    .colab-df-buttons div {\n",
              "      margin-bottom: 4px;\n",
              "    }\n",
              "\n",
              "    [theme=dark] .colab-df-convert {\n",
              "      background-color: #3B4455;\n",
              "      fill: #D2E3FC;\n",
              "    }\n",
              "\n",
              "    [theme=dark] .colab-df-convert:hover {\n",
              "      background-color: #434B5C;\n",
              "      box-shadow: 0px 1px 3px 1px rgba(0, 0, 0, 0.15);\n",
              "      filter: drop-shadow(0px 1px 2px rgba(0, 0, 0, 0.3));\n",
              "      fill: #FFFFFF;\n",
              "    }\n",
              "  </style>\n",
              "\n",
              "    <script>\n",
              "      const buttonEl =\n",
              "        document.querySelector('#df-9c822ebd-1b70-4875-836f-4f74c55f0844 button.colab-df-convert');\n",
              "      buttonEl.style.display =\n",
              "        google.colab.kernel.accessAllowed ? 'block' : 'none';\n",
              "\n",
              "      async function convertToInteractive(key) {\n",
              "        const element = document.querySelector('#df-9c822ebd-1b70-4875-836f-4f74c55f0844');\n",
              "        const dataTable =\n",
              "          await google.colab.kernel.invokeFunction('convertToInteractive',\n",
              "                                                    [key], {});\n",
              "        if (!dataTable) return;\n",
              "\n",
              "        const docLinkHtml = 'Like what you see? Visit the ' +\n",
              "          '<a target=\"_blank\" href=https://colab.research.google.com/notebooks/data_table.ipynb>data table notebook</a>'\n",
              "          + ' to learn more about interactive tables.';\n",
              "        element.innerHTML = '';\n",
              "        dataTable['output_type'] = 'display_data';\n",
              "        await google.colab.output.renderOutput(dataTable, element);\n",
              "        const docLink = document.createElement('div');\n",
              "        docLink.innerHTML = docLinkHtml;\n",
              "        element.appendChild(docLink);\n",
              "      }\n",
              "    </script>\n",
              "  </div>\n",
              "\n",
              "\n",
              "    <div id=\"df-9a07ec70-46c5-4cde-8389-193b74924069\">\n",
              "      <button class=\"colab-df-quickchart\" onclick=\"quickchart('df-9a07ec70-46c5-4cde-8389-193b74924069')\"\n",
              "                title=\"Suggest charts\"\n",
              "                style=\"display:none;\">\n",
              "\n",
              "<svg xmlns=\"http://www.w3.org/2000/svg\" height=\"24px\"viewBox=\"0 0 24 24\"\n",
              "     width=\"24px\">\n",
              "    <g>\n",
              "        <path d=\"M19 3H5c-1.1 0-2 .9-2 2v14c0 1.1.9 2 2 2h14c1.1 0 2-.9 2-2V5c0-1.1-.9-2-2-2zM9 17H7v-7h2v7zm4 0h-2V7h2v10zm4 0h-2v-4h2v4z\"/>\n",
              "    </g>\n",
              "</svg>\n",
              "      </button>\n",
              "\n",
              "<style>\n",
              "  .colab-df-quickchart {\n",
              "      --bg-color: #E8F0FE;\n",
              "      --fill-color: #1967D2;\n",
              "      --hover-bg-color: #E2EBFA;\n",
              "      --hover-fill-color: #174EA6;\n",
              "      --disabled-fill-color: #AAA;\n",
              "      --disabled-bg-color: #DDD;\n",
              "  }\n",
              "\n",
              "  [theme=dark] .colab-df-quickchart {\n",
              "      --bg-color: #3B4455;\n",
              "      --fill-color: #D2E3FC;\n",
              "      --hover-bg-color: #434B5C;\n",
              "      --hover-fill-color: #FFFFFF;\n",
              "      --disabled-bg-color: #3B4455;\n",
              "      --disabled-fill-color: #666;\n",
              "  }\n",
              "\n",
              "  .colab-df-quickchart {\n",
              "    background-color: var(--bg-color);\n",
              "    border: none;\n",
              "    border-radius: 50%;\n",
              "    cursor: pointer;\n",
              "    display: none;\n",
              "    fill: var(--fill-color);\n",
              "    height: 32px;\n",
              "    padding: 0;\n",
              "    width: 32px;\n",
              "  }\n",
              "\n",
              "  .colab-df-quickchart:hover {\n",
              "    background-color: var(--hover-bg-color);\n",
              "    box-shadow: 0 1px 2px rgba(60, 64, 67, 0.3), 0 1px 3px 1px rgba(60, 64, 67, 0.15);\n",
              "    fill: var(--button-hover-fill-color);\n",
              "  }\n",
              "\n",
              "  .colab-df-quickchart-complete:disabled,\n",
              "  .colab-df-quickchart-complete:disabled:hover {\n",
              "    background-color: var(--disabled-bg-color);\n",
              "    fill: var(--disabled-fill-color);\n",
              "    box-shadow: none;\n",
              "  }\n",
              "\n",
              "  .colab-df-spinner {\n",
              "    border: 2px solid var(--fill-color);\n",
              "    border-color: transparent;\n",
              "    border-bottom-color: var(--fill-color);\n",
              "    animation:\n",
              "      spin 1s steps(1) infinite;\n",
              "  }\n",
              "\n",
              "  @keyframes spin {\n",
              "    0% {\n",
              "      border-color: transparent;\n",
              "      border-bottom-color: var(--fill-color);\n",
              "      border-left-color: var(--fill-color);\n",
              "    }\n",
              "    20% {\n",
              "      border-color: transparent;\n",
              "      border-left-color: var(--fill-color);\n",
              "      border-top-color: var(--fill-color);\n",
              "    }\n",
              "    30% {\n",
              "      border-color: transparent;\n",
              "      border-left-color: var(--fill-color);\n",
              "      border-top-color: var(--fill-color);\n",
              "      border-right-color: var(--fill-color);\n",
              "    }\n",
              "    40% {\n",
              "      border-color: transparent;\n",
              "      border-right-color: var(--fill-color);\n",
              "      border-top-color: var(--fill-color);\n",
              "    }\n",
              "    60% {\n",
              "      border-color: transparent;\n",
              "      border-right-color: var(--fill-color);\n",
              "    }\n",
              "    80% {\n",
              "      border-color: transparent;\n",
              "      border-right-color: var(--fill-color);\n",
              "      border-bottom-color: var(--fill-color);\n",
              "    }\n",
              "    90% {\n",
              "      border-color: transparent;\n",
              "      border-bottom-color: var(--fill-color);\n",
              "    }\n",
              "  }\n",
              "</style>\n",
              "\n",
              "      <script>\n",
              "        async function quickchart(key) {\n",
              "          const quickchartButtonEl =\n",
              "            document.querySelector('#' + key + ' button');\n",
              "          quickchartButtonEl.disabled = true;  // To prevent multiple clicks.\n",
              "          quickchartButtonEl.classList.add('colab-df-spinner');\n",
              "          try {\n",
              "            const charts = await google.colab.kernel.invokeFunction(\n",
              "                'suggestCharts', [key], {});\n",
              "          } catch (error) {\n",
              "            console.error('Error during call to suggestCharts:', error);\n",
              "          }\n",
              "          quickchartButtonEl.classList.remove('colab-df-spinner');\n",
              "          quickchartButtonEl.classList.add('colab-df-quickchart-complete');\n",
              "        }\n",
              "        (() => {\n",
              "          let quickchartButtonEl =\n",
              "            document.querySelector('#df-9a07ec70-46c5-4cde-8389-193b74924069 button');\n",
              "          quickchartButtonEl.style.display =\n",
              "            google.colab.kernel.accessAllowed ? 'block' : 'none';\n",
              "        })();\n",
              "      </script>\n",
              "    </div>\n",
              "\n",
              "  <div id=\"id_93909557-2fc5-4875-aebb-4ea5db53ddc9\">\n",
              "    <style>\n",
              "      .colab-df-generate {\n",
              "        background-color: #E8F0FE;\n",
              "        border: none;\n",
              "        border-radius: 50%;\n",
              "        cursor: pointer;\n",
              "        display: none;\n",
              "        fill: #1967D2;\n",
              "        height: 32px;\n",
              "        padding: 0 0 0 0;\n",
              "        width: 32px;\n",
              "      }\n",
              "\n",
              "      .colab-df-generate:hover {\n",
              "        background-color: #E2EBFA;\n",
              "        box-shadow: 0px 1px 2px rgba(60, 64, 67, 0.3), 0px 1px 3px 1px rgba(60, 64, 67, 0.15);\n",
              "        fill: #174EA6;\n",
              "      }\n",
              "\n",
              "      [theme=dark] .colab-df-generate {\n",
              "        background-color: #3B4455;\n",
              "        fill: #D2E3FC;\n",
              "      }\n",
              "\n",
              "      [theme=dark] .colab-df-generate:hover {\n",
              "        background-color: #434B5C;\n",
              "        box-shadow: 0px 1px 3px 1px rgba(0, 0, 0, 0.15);\n",
              "        filter: drop-shadow(0px 1px 2px rgba(0, 0, 0, 0.3));\n",
              "        fill: #FFFFFF;\n",
              "      }\n",
              "    </style>\n",
              "    <button class=\"colab-df-generate\" onclick=\"generateWithVariable('quality_df')\"\n",
              "            title=\"Generate code using this dataframe.\"\n",
              "            style=\"display:none;\">\n",
              "\n",
              "  <svg xmlns=\"http://www.w3.org/2000/svg\" height=\"24px\"viewBox=\"0 0 24 24\"\n",
              "       width=\"24px\">\n",
              "    <path d=\"M7,19H8.4L18.45,9,17,7.55,7,17.6ZM5,21V16.75L18.45,3.32a2,2,0,0,1,2.83,0l1.4,1.43a1.91,1.91,0,0,1,.58,1.4,1.91,1.91,0,0,1-.58,1.4L9.25,21ZM18.45,9,17,7.55Zm-12,3A5.31,5.31,0,0,0,4.9,8.1,5.31,5.31,0,0,0,1,6.5,5.31,5.31,0,0,0,4.9,4.9,5.31,5.31,0,0,0,6.5,1,5.31,5.31,0,0,0,8.1,4.9,5.31,5.31,0,0,0,12,6.5,5.46,5.46,0,0,0,6.5,12Z\"/>\n",
              "  </svg>\n",
              "    </button>\n",
              "    <script>\n",
              "      (() => {\n",
              "      const buttonEl =\n",
              "        document.querySelector('#id_93909557-2fc5-4875-aebb-4ea5db53ddc9 button.colab-df-generate');\n",
              "      buttonEl.style.display =\n",
              "        google.colab.kernel.accessAllowed ? 'block' : 'none';\n",
              "\n",
              "      buttonEl.onclick = () => {\n",
              "        google.colab.notebook.generateWithVariable('quality_df');\n",
              "      }\n",
              "      })();\n",
              "    </script>\n",
              "  </div>\n",
              "\n",
              "    </div>\n",
              "  </div>\n"
            ],
            "application/vnd.google.colaboratory.intrinsic+json": {
              "type": "dataframe",
              "variable_name": "quality_df",
              "summary": "{\n  \"name\": \"quality_df\",\n  \"rows\": 11,\n  \"fields\": [\n    {\n      \"column\": \"Column\",\n      \"properties\": {\n        \"dtype\": \"string\",\n        \"num_unique_values\": 11,\n        \"samples\": [\n          \"Smoking\",\n          \"Age\",\n          \"Stress Level\"\n        ],\n        \"semantic_type\": \"\",\n        \"description\": \"\"\n      }\n    },\n    {\n      \"column\": \"Data Type\",\n      \"properties\": {\n        \"dtype\": \"category\",\n        \"num_unique_values\": 1,\n        \"samples\": [\n          \"object\"\n        ],\n        \"semantic_type\": \"\",\n        \"description\": \"\"\n      }\n    },\n    {\n      \"column\": \"Total Records\",\n      \"properties\": {\n        \"dtype\": \"number\",\n        \"std\": 0,\n        \"min\": 10000,\n        \"max\": 10000,\n        \"num_unique_values\": 1,\n        \"samples\": [\n          10000\n        ],\n        \"semantic_type\": \"\",\n        \"description\": \"\"\n      }\n    },\n    {\n      \"column\": \"NULL Count\",\n      \"properties\": {\n        \"dtype\": \"number\",\n        \"std\": 0,\n        \"min\": 0,\n        \"max\": 0,\n        \"num_unique_values\": 1,\n        \"samples\": [\n          0\n        ],\n        \"semantic_type\": \"\",\n        \"description\": \"\"\n      }\n    },\n    {\n      \"column\": \"Missing Count\",\n      \"properties\": {\n        \"dtype\": \"number\",\n        \"std\": 773,\n        \"min\": 0,\n        \"max\": 2586,\n        \"num_unique_values\": 8,\n        \"samples\": [\n          19\n        ],\n        \"semantic_type\": \"\",\n        \"description\": \"\"\n      }\n    },\n    {\n      \"column\": \"Actual Count\",\n      \"properties\": {\n        \"dtype\": \"number\",\n        \"std\": 773,\n        \"min\": 7414,\n        \"max\": 10000,\n        \"num_unique_values\": 8,\n        \"samples\": [\n          9981\n        ],\n        \"semantic_type\": \"\",\n        \"description\": \"\"\n      }\n    },\n    {\n      \"column\": \"Completeness (%)\",\n      \"properties\": {\n        \"dtype\": \"string\",\n        \"num_unique_values\": 8,\n        \"samples\": [\n          \"99.81%\"\n        ],\n        \"semantic_type\": \"\",\n        \"description\": \"\"\n      }\n    },\n    {\n      \"column\": \"Cardinality\",\n      \"properties\": {\n        \"dtype\": \"number\",\n        \"std\": 3000,\n        \"min\": 2,\n        \"max\": 9979,\n        \"num_unique_values\": 7,\n        \"samples\": [\n          64\n        ],\n        \"semantic_type\": \"\",\n        \"description\": \"\"\n      }\n    },\n    {\n      \"column\": \"Uniqueness (%)\",\n      \"properties\": {\n        \"dtype\": \"string\",\n        \"num_unique_values\": 7,\n        \"samples\": [\n          \"0.64%\"\n        ],\n        \"semantic_type\": \"\",\n        \"description\": \"\"\n      }\n    },\n    {\n      \"column\": \"Distinctness (%)\",\n      \"properties\": {\n        \"dtype\": \"string\",\n        \"num_unique_values\": 8,\n        \"samples\": [\n          \"0.03%\"\n        ],\n        \"semantic_type\": \"\",\n        \"description\": \"\"\n      }\n    }\n  ]\n}"
            }
          },
          "metadata": {},
          "execution_count": 21
        }
      ]
    },
    {
      "cell_type": "markdown",
      "source": [
        "###2. Details"
      ],
      "metadata": {
        "id": "CViL7dnnOB9H"
      }
    },
    {
      "cell_type": "code",
      "source": [
        "def analyze_column(df, column):\n",
        "    from termcolor import colored\n",
        "    from IPython.display import Markdown, display\n",
        "    import pandas as pd\n",
        "\n",
        "    col_data = df[column]\n",
        "    total = len(col_data)\n",
        "\n",
        "    # Tính các chỉ số\n",
        "    nulls = col_data.isnull().sum()\n",
        "    missing = col_data.apply(lambda x: isinstance(x, str) and x.strip() == '').sum()\n",
        "    actual = total - nulls - missing\n",
        "\n",
        "    completeness = actual / total if total != 0 else 0\n",
        "    cardinality = col_data.nunique(dropna=True)\n",
        "\n",
        "    # Sửa công thức theo đúng định nghĩa\n",
        "    uniqueness = cardinality / total if total != 0 else 0\n",
        "    distinctness = cardinality / actual if actual != 0 else 0\n",
        "\n",
        "    min_len = col_data.dropna().astype(str).apply(len).min() if actual != 0 else None\n",
        "    max_len = col_data.dropna().astype(str).apply(len).max() if actual != 0 else None\n",
        "    data_type = col_data.dropna().map(type).mode()[0].__name__ if actual > 0 else 'unknown'\n",
        "    sample_val = str(col_data.dropna().astype(str).iloc[0]) if actual > 0 else ''\n",
        "    field_format = ''.join(['n' if c.isdigit() else 'x' for c in sample_val]) if sample_val else ''\n",
        "\n",
        "    top5 = col_data.value_counts(dropna=False).head(5)\n",
        "\n",
        "    # Hàm phụ để in đẹp\n",
        "    def print_section(title):\n",
        "        display(Markdown(f\"### <span style='color:#2e6cbb'>{title}</span>\"))\n",
        "\n",
        "    def print_kv(label, value):\n",
        "        print(f\"{label:<32}: {value}\")\n",
        "        print(\"-\" * 50)\n",
        "\n",
        "    # In thông tin\n",
        "    print_section(f\"🔎 INPUT METADATA — {column.upper()}\")\n",
        "    print_kv(\"Field Name\", column)\n",
        "    print_kv(\"Field Data Type\", data_type.upper())\n",
        "    print_kv(\"Field Format\", field_format if field_format else \"N/A\")\n",
        "    print_kv(\"Field Length (MAX)\", max_len if max_len is not None else \"N/A\")\n",
        "\n",
        "    print_section(\"📊 DATA PROFILING SUMMARY STATISTICS\")\n",
        "    print_kv(\"Total Rows\", total)\n",
        "    print_kv(\"NULL Count\", nulls)\n",
        "    print_kv(\"Missing (blank strings)\", missing)\n",
        "    print_kv(\"Actual (Non-missing)\", actual)\n",
        "    print_kv(\"Completeness (%)\", f\"{completeness*100:.2f}%\")\n",
        "    print_kv(\"Cardinality\", cardinality)\n",
        "    print_kv(\"Uniqueness (%)\", f\"{uniqueness*100:.2f}%\")\n",
        "    print_kv(\"Distinctness (%)\", f\"{distinctness*100:.2f}%\")\n",
        "\n",
        "    print_section(\"📐 DATA PROFILING ADDITIONAL STATISTICS\")\n",
        "    print_kv(\"Field Data Types (Count)\", col_data.dropna().map(type).nunique())\n",
        "    print_kv(\"Field Length (MIN)\", min_len if min_len is not None else \"N/A\")\n",
        "    print_kv(\"Field Length (MAX)\", max_len if max_len is not None else \"N/A\")\n",
        "\n",
        "    if pd.api.types.is_numeric_dtype(col_data.dropna()):\n",
        "        print_kv(\"Field Value (MIN)\", col_data.min())\n",
        "        print_kv(\"Field Value (MAX)\", col_data.max())\n",
        "\n",
        "    print_section(f\"⭐ {column.upper()} — TOP 5 VALUES\")\n",
        "    print(f\"{'Value':<30}{'Count':>10}{'Percentage':>12}\")\n",
        "    print(\"-\" * 55)\n",
        "    for val, count in top5.items():\n",
        "        percent = round(count / total * 100, 2)\n",
        "        val_str = str(val)[:30]\n",
        "        print(f\"{val_str:<30}{count:>10}{percent:>12}%\")\n"
      ],
      "metadata": {
        "id": "yMB4sPAkV51g"
      },
      "execution_count": 22,
      "outputs": []
    },
    {
      "cell_type": "markdown",
      "source": [
        "####2.1. Age"
      ],
      "metadata": {
        "id": "HfIJcNL_x0Jc"
      }
    },
    {
      "cell_type": "code",
      "source": [
        "#viết hàm thực thi cho thuộc tính age\n",
        "analyze_column(df, 'Age')\n"
      ],
      "metadata": {
        "colab": {
          "base_uri": "https://localhost:8080/",
          "height": 841
        },
        "id": "XB0qX5qcah4I",
        "outputId": "de7a8392-3dea-4a61-d35e-24ae6ab79d67"
      },
      "execution_count": 23,
      "outputs": [
        {
          "output_type": "display_data",
          "data": {
            "text/plain": [
              "<IPython.core.display.Markdown object>"
            ],
            "text/markdown": "### <span style='color:#2e6cbb'>🔎 INPUT METADATA — AGE</span>"
          },
          "metadata": {}
        },
        {
          "output_type": "stream",
          "name": "stdout",
          "text": [
            "Field Name                      : Age\n",
            "--------------------------------------------------\n",
            "Field Data Type                 : INT\n",
            "--------------------------------------------------\n",
            "Field Format                    : nn\n",
            "--------------------------------------------------\n",
            "Field Length (MAX)              : 2\n",
            "--------------------------------------------------\n"
          ]
        },
        {
          "output_type": "display_data",
          "data": {
            "text/plain": [
              "<IPython.core.display.Markdown object>"
            ],
            "text/markdown": "### <span style='color:#2e6cbb'>📊 DATA PROFILING SUMMARY STATISTICS</span>"
          },
          "metadata": {}
        },
        {
          "output_type": "stream",
          "name": "stdout",
          "text": [
            "Total Rows                      : 10000\n",
            "--------------------------------------------------\n",
            "NULL Count                      : 0\n",
            "--------------------------------------------------\n",
            "Missing (blank strings)         : 29\n",
            "--------------------------------------------------\n",
            "Actual (Non-missing)            : 9971\n",
            "--------------------------------------------------\n",
            "Completeness (%)                : 99.71%\n",
            "--------------------------------------------------\n",
            "Cardinality                     : 64\n",
            "--------------------------------------------------\n",
            "Uniqueness (%)                  : 0.64%\n",
            "--------------------------------------------------\n",
            "Distinctness (%)                : 0.64%\n",
            "--------------------------------------------------\n"
          ]
        },
        {
          "output_type": "display_data",
          "data": {
            "text/plain": [
              "<IPython.core.display.Markdown object>"
            ],
            "text/markdown": "### <span style='color:#2e6cbb'>📐 DATA PROFILING ADDITIONAL STATISTICS</span>"
          },
          "metadata": {}
        },
        {
          "output_type": "stream",
          "name": "stdout",
          "text": [
            "Field Data Types (Count)        : 2\n",
            "--------------------------------------------------\n",
            "Field Length (MIN)              : 0\n",
            "--------------------------------------------------\n",
            "Field Length (MAX)              : 2\n",
            "--------------------------------------------------\n"
          ]
        },
        {
          "output_type": "display_data",
          "data": {
            "text/plain": [
              "<IPython.core.display.Markdown object>"
            ],
            "text/markdown": "### <span style='color:#2e6cbb'>⭐ AGE — TOP 5 VALUES</span>"
          },
          "metadata": {}
        },
        {
          "output_type": "stream",
          "name": "stdout",
          "text": [
            "Value                              Count  Percentage\n",
            "-------------------------------------------------------\n",
            "71                                   187        1.87%\n",
            "64                                   185        1.85%\n",
            "43                                   182        1.82%\n",
            "34                                   182        1.82%\n",
            "62                                   181        1.81%\n"
          ]
        }
      ]
    },
    {
      "cell_type": "markdown",
      "source": [
        "####2.2. gender"
      ],
      "metadata": {
        "id": "CcX-QoPlx7ku"
      }
    },
    {
      "cell_type": "code",
      "source": [
        "analyze_column(df, 'Gender')"
      ],
      "metadata": {
        "colab": {
          "base_uri": "https://localhost:8080/",
          "height": 805
        },
        "id": "5VipJWshx6us",
        "outputId": "84d1fb7b-eba7-49a8-9ece-4a6c30cf32c1"
      },
      "execution_count": 24,
      "outputs": [
        {
          "output_type": "display_data",
          "data": {
            "text/plain": [
              "<IPython.core.display.Markdown object>"
            ],
            "text/markdown": "### <span style='color:#2e6cbb'>🔎 INPUT METADATA — GENDER</span>"
          },
          "metadata": {}
        },
        {
          "output_type": "stream",
          "name": "stdout",
          "text": [
            "Field Name                      : Gender\n",
            "--------------------------------------------------\n",
            "Field Data Type                 : STR\n",
            "--------------------------------------------------\n",
            "Field Format                    : xxxx\n",
            "--------------------------------------------------\n",
            "Field Length (MAX)              : 6\n",
            "--------------------------------------------------\n"
          ]
        },
        {
          "output_type": "display_data",
          "data": {
            "text/plain": [
              "<IPython.core.display.Markdown object>"
            ],
            "text/markdown": "### <span style='color:#2e6cbb'>📊 DATA PROFILING SUMMARY STATISTICS</span>"
          },
          "metadata": {}
        },
        {
          "output_type": "stream",
          "name": "stdout",
          "text": [
            "Total Rows                      : 10000\n",
            "--------------------------------------------------\n",
            "NULL Count                      : 0\n",
            "--------------------------------------------------\n",
            "Missing (blank strings)         : 19\n",
            "--------------------------------------------------\n",
            "Actual (Non-missing)            : 9981\n",
            "--------------------------------------------------\n",
            "Completeness (%)                : 99.81%\n",
            "--------------------------------------------------\n",
            "Cardinality                     : 3\n",
            "--------------------------------------------------\n",
            "Uniqueness (%)                  : 0.03%\n",
            "--------------------------------------------------\n",
            "Distinctness (%)                : 0.03%\n",
            "--------------------------------------------------\n"
          ]
        },
        {
          "output_type": "display_data",
          "data": {
            "text/plain": [
              "<IPython.core.display.Markdown object>"
            ],
            "text/markdown": "### <span style='color:#2e6cbb'>📐 DATA PROFILING ADDITIONAL STATISTICS</span>"
          },
          "metadata": {}
        },
        {
          "output_type": "stream",
          "name": "stdout",
          "text": [
            "Field Data Types (Count)        : 1\n",
            "--------------------------------------------------\n",
            "Field Length (MIN)              : 0\n",
            "--------------------------------------------------\n",
            "Field Length (MAX)              : 6\n",
            "--------------------------------------------------\n"
          ]
        },
        {
          "output_type": "display_data",
          "data": {
            "text/plain": [
              "<IPython.core.display.Markdown object>"
            ],
            "text/markdown": "### <span style='color:#2e6cbb'>⭐ GENDER — TOP 5 VALUES</span>"
          },
          "metadata": {}
        },
        {
          "output_type": "stream",
          "name": "stdout",
          "text": [
            "Value                              Count  Percentage\n",
            "-------------------------------------------------------\n",
            "Male                                5003       50.03%\n",
            "Female                              4978       49.78%\n",
            "                                      19        0.19%\n"
          ]
        }
      ]
    },
    {
      "cell_type": "markdown",
      "source": [
        "####2.3. Blood Pressure"
      ],
      "metadata": {
        "id": "zEc1MWv50LLq"
      }
    },
    {
      "cell_type": "code",
      "source": [
        "analyze_column(df, 'Blood Pressure')"
      ],
      "metadata": {
        "colab": {
          "base_uri": "https://localhost:8080/",
          "height": 841
        },
        "id": "ve58NykR0Lyv",
        "outputId": "8f6562cc-7826-4ada-cafa-dfbe67bcbcd1"
      },
      "execution_count": 25,
      "outputs": [
        {
          "output_type": "display_data",
          "data": {
            "text/plain": [
              "<IPython.core.display.Markdown object>"
            ],
            "text/markdown": "### <span style='color:#2e6cbb'>🔎 INPUT METADATA — BLOOD PRESSURE</span>"
          },
          "metadata": {}
        },
        {
          "output_type": "stream",
          "name": "stdout",
          "text": [
            "Field Name                      : Blood Pressure\n",
            "--------------------------------------------------\n",
            "Field Data Type                 : INT\n",
            "--------------------------------------------------\n",
            "Field Format                    : nnn\n",
            "--------------------------------------------------\n",
            "Field Length (MAX)              : 3\n",
            "--------------------------------------------------\n"
          ]
        },
        {
          "output_type": "display_data",
          "data": {
            "text/plain": [
              "<IPython.core.display.Markdown object>"
            ],
            "text/markdown": "### <span style='color:#2e6cbb'>📊 DATA PROFILING SUMMARY STATISTICS</span>"
          },
          "metadata": {}
        },
        {
          "output_type": "stream",
          "name": "stdout",
          "text": [
            "Total Rows                      : 10000\n",
            "--------------------------------------------------\n",
            "NULL Count                      : 0\n",
            "--------------------------------------------------\n",
            "Missing (blank strings)         : 19\n",
            "--------------------------------------------------\n",
            "Actual (Non-missing)            : 9981\n",
            "--------------------------------------------------\n",
            "Completeness (%)                : 99.81%\n",
            "--------------------------------------------------\n",
            "Cardinality                     : 62\n",
            "--------------------------------------------------\n",
            "Uniqueness (%)                  : 0.62%\n",
            "--------------------------------------------------\n",
            "Distinctness (%)                : 0.62%\n",
            "--------------------------------------------------\n"
          ]
        },
        {
          "output_type": "display_data",
          "data": {
            "text/plain": [
              "<IPython.core.display.Markdown object>"
            ],
            "text/markdown": "### <span style='color:#2e6cbb'>📐 DATA PROFILING ADDITIONAL STATISTICS</span>"
          },
          "metadata": {}
        },
        {
          "output_type": "stream",
          "name": "stdout",
          "text": [
            "Field Data Types (Count)        : 2\n",
            "--------------------------------------------------\n",
            "Field Length (MIN)              : 0\n",
            "--------------------------------------------------\n",
            "Field Length (MAX)              : 3\n",
            "--------------------------------------------------\n"
          ]
        },
        {
          "output_type": "display_data",
          "data": {
            "text/plain": [
              "<IPython.core.display.Markdown object>"
            ],
            "text/markdown": "### <span style='color:#2e6cbb'>⭐ BLOOD PRESSURE — TOP 5 VALUES</span>"
          },
          "metadata": {}
        },
        {
          "output_type": "stream",
          "name": "stdout",
          "text": [
            "Value                              Count  Percentage\n",
            "-------------------------------------------------------\n",
            "134                                  214        2.14%\n",
            "167                                  195        1.95%\n",
            "171                                  182        1.82%\n",
            "170                                  181        1.81%\n",
            "142                                  181        1.81%\n"
          ]
        }
      ]
    },
    {
      "cell_type": "markdown",
      "source": [
        "####2.4. Cholesterol Level"
      ],
      "metadata": {
        "id": "poAKiyld0hxJ"
      }
    },
    {
      "cell_type": "code",
      "source": [
        "analyze_column(df, 'Cholesterol Level')"
      ],
      "metadata": {
        "colab": {
          "base_uri": "https://localhost:8080/",
          "height": 841
        },
        "id": "rhvjH0dR0N2P",
        "outputId": "37901a0a-bdf4-4360-b6a1-e66a7789e7e4"
      },
      "execution_count": 26,
      "outputs": [
        {
          "output_type": "display_data",
          "data": {
            "text/plain": [
              "<IPython.core.display.Markdown object>"
            ],
            "text/markdown": "### <span style='color:#2e6cbb'>🔎 INPUT METADATA — CHOLESTEROL LEVEL</span>"
          },
          "metadata": {}
        },
        {
          "output_type": "stream",
          "name": "stdout",
          "text": [
            "Field Name                      : Cholesterol Level\n",
            "--------------------------------------------------\n",
            "Field Data Type                 : INT\n",
            "--------------------------------------------------\n",
            "Field Format                    : nnn\n",
            "--------------------------------------------------\n",
            "Field Length (MAX)              : 3\n",
            "--------------------------------------------------\n"
          ]
        },
        {
          "output_type": "display_data",
          "data": {
            "text/plain": [
              "<IPython.core.display.Markdown object>"
            ],
            "text/markdown": "### <span style='color:#2e6cbb'>📊 DATA PROFILING SUMMARY STATISTICS</span>"
          },
          "metadata": {}
        },
        {
          "output_type": "stream",
          "name": "stdout",
          "text": [
            "Total Rows                      : 10000\n",
            "--------------------------------------------------\n",
            "NULL Count                      : 0\n",
            "--------------------------------------------------\n",
            "Missing (blank strings)         : 30\n",
            "--------------------------------------------------\n",
            "Actual (Non-missing)            : 9970\n",
            "--------------------------------------------------\n",
            "Completeness (%)                : 99.70%\n",
            "--------------------------------------------------\n",
            "Cardinality                     : 152\n",
            "--------------------------------------------------\n",
            "Uniqueness (%)                  : 1.52%\n",
            "--------------------------------------------------\n",
            "Distinctness (%)                : 1.52%\n",
            "--------------------------------------------------\n"
          ]
        },
        {
          "output_type": "display_data",
          "data": {
            "text/plain": [
              "<IPython.core.display.Markdown object>"
            ],
            "text/markdown": "### <span style='color:#2e6cbb'>📐 DATA PROFILING ADDITIONAL STATISTICS</span>"
          },
          "metadata": {}
        },
        {
          "output_type": "stream",
          "name": "stdout",
          "text": [
            "Field Data Types (Count)        : 2\n",
            "--------------------------------------------------\n",
            "Field Length (MIN)              : 0\n",
            "--------------------------------------------------\n",
            "Field Length (MAX)              : 3\n",
            "--------------------------------------------------\n"
          ]
        },
        {
          "output_type": "display_data",
          "data": {
            "text/plain": [
              "<IPython.core.display.Markdown object>"
            ],
            "text/markdown": "### <span style='color:#2e6cbb'>⭐ CHOLESTEROL LEVEL — TOP 5 VALUES</span>"
          },
          "metadata": {}
        },
        {
          "output_type": "stream",
          "name": "stdout",
          "text": [
            "Value                              Count  Percentage\n",
            "-------------------------------------------------------\n",
            "292                                   91        0.91%\n",
            "186                                   84        0.84%\n",
            "185                                   83        0.83%\n",
            "288                                   83        0.83%\n",
            "193                                   81        0.81%\n"
          ]
        }
      ]
    },
    {
      "cell_type": "markdown",
      "source": [
        "####2.5 Exercise Habits"
      ],
      "metadata": {
        "id": "E76aVyZ30mxq"
      }
    },
    {
      "cell_type": "code",
      "source": [
        "analyze_column(df, 'Exercise Habits')"
      ],
      "metadata": {
        "colab": {
          "base_uri": "https://localhost:8080/",
          "height": 823
        },
        "id": "xF8kV7rM0O-a",
        "outputId": "bf3c6252-d840-4978-8970-8997fef7e7e0"
      },
      "execution_count": 27,
      "outputs": [
        {
          "output_type": "display_data",
          "data": {
            "text/plain": [
              "<IPython.core.display.Markdown object>"
            ],
            "text/markdown": "### <span style='color:#2e6cbb'>🔎 INPUT METADATA — EXERCISE HABITS</span>"
          },
          "metadata": {}
        },
        {
          "output_type": "stream",
          "name": "stdout",
          "text": [
            "Field Name                      : Exercise Habits\n",
            "--------------------------------------------------\n",
            "Field Data Type                 : STR\n",
            "--------------------------------------------------\n",
            "Field Format                    : xxxx\n",
            "--------------------------------------------------\n",
            "Field Length (MAX)              : 6\n",
            "--------------------------------------------------\n"
          ]
        },
        {
          "output_type": "display_data",
          "data": {
            "text/plain": [
              "<IPython.core.display.Markdown object>"
            ],
            "text/markdown": "### <span style='color:#2e6cbb'>📊 DATA PROFILING SUMMARY STATISTICS</span>"
          },
          "metadata": {}
        },
        {
          "output_type": "stream",
          "name": "stdout",
          "text": [
            "Total Rows                      : 10000\n",
            "--------------------------------------------------\n",
            "NULL Count                      : 0\n",
            "--------------------------------------------------\n",
            "Missing (blank strings)         : 25\n",
            "--------------------------------------------------\n",
            "Actual (Non-missing)            : 9975\n",
            "--------------------------------------------------\n",
            "Completeness (%)                : 99.75%\n",
            "--------------------------------------------------\n",
            "Cardinality                     : 4\n",
            "--------------------------------------------------\n",
            "Uniqueness (%)                  : 0.04%\n",
            "--------------------------------------------------\n",
            "Distinctness (%)                : 0.04%\n",
            "--------------------------------------------------\n"
          ]
        },
        {
          "output_type": "display_data",
          "data": {
            "text/plain": [
              "<IPython.core.display.Markdown object>"
            ],
            "text/markdown": "### <span style='color:#2e6cbb'>📐 DATA PROFILING ADDITIONAL STATISTICS</span>"
          },
          "metadata": {}
        },
        {
          "output_type": "stream",
          "name": "stdout",
          "text": [
            "Field Data Types (Count)        : 1\n",
            "--------------------------------------------------\n",
            "Field Length (MIN)              : 0\n",
            "--------------------------------------------------\n",
            "Field Length (MAX)              : 6\n",
            "--------------------------------------------------\n"
          ]
        },
        {
          "output_type": "display_data",
          "data": {
            "text/plain": [
              "<IPython.core.display.Markdown object>"
            ],
            "text/markdown": "### <span style='color:#2e6cbb'>⭐ EXERCISE HABITS — TOP 5 VALUES</span>"
          },
          "metadata": {}
        },
        {
          "output_type": "stream",
          "name": "stdout",
          "text": [
            "Value                              Count  Percentage\n",
            "-------------------------------------------------------\n",
            "High                                3372       33.72%\n",
            "Medium                              3332       33.32%\n",
            "Low                                 3271       32.71%\n",
            "                                      25        0.25%\n"
          ]
        }
      ]
    },
    {
      "cell_type": "markdown",
      "source": [
        "####2.6 Smoking"
      ],
      "metadata": {
        "id": "CifErYzA0rPA"
      }
    },
    {
      "cell_type": "code",
      "source": [
        "analyze_column(df, 'Smoking')"
      ],
      "metadata": {
        "colab": {
          "base_uri": "https://localhost:8080/",
          "height": 805
        },
        "id": "gAadrsOM0Qa0",
        "outputId": "b79421a4-746a-4076-e924-64bc51106c9a"
      },
      "execution_count": 28,
      "outputs": [
        {
          "output_type": "display_data",
          "data": {
            "text/plain": [
              "<IPython.core.display.Markdown object>"
            ],
            "text/markdown": "### <span style='color:#2e6cbb'>🔎 INPUT METADATA — SMOKING</span>"
          },
          "metadata": {}
        },
        {
          "output_type": "stream",
          "name": "stdout",
          "text": [
            "Field Name                      : Smoking\n",
            "--------------------------------------------------\n",
            "Field Data Type                 : STR\n",
            "--------------------------------------------------\n",
            "Field Format                    : xxx\n",
            "--------------------------------------------------\n",
            "Field Length (MAX)              : 3\n",
            "--------------------------------------------------\n"
          ]
        },
        {
          "output_type": "display_data",
          "data": {
            "text/plain": [
              "<IPython.core.display.Markdown object>"
            ],
            "text/markdown": "### <span style='color:#2e6cbb'>📊 DATA PROFILING SUMMARY STATISTICS</span>"
          },
          "metadata": {}
        },
        {
          "output_type": "stream",
          "name": "stdout",
          "text": [
            "Total Rows                      : 10000\n",
            "--------------------------------------------------\n",
            "NULL Count                      : 0\n",
            "--------------------------------------------------\n",
            "Missing (blank strings)         : 25\n",
            "--------------------------------------------------\n",
            "Actual (Non-missing)            : 9975\n",
            "--------------------------------------------------\n",
            "Completeness (%)                : 99.75%\n",
            "--------------------------------------------------\n",
            "Cardinality                     : 3\n",
            "--------------------------------------------------\n",
            "Uniqueness (%)                  : 0.03%\n",
            "--------------------------------------------------\n",
            "Distinctness (%)                : 0.03%\n",
            "--------------------------------------------------\n"
          ]
        },
        {
          "output_type": "display_data",
          "data": {
            "text/plain": [
              "<IPython.core.display.Markdown object>"
            ],
            "text/markdown": "### <span style='color:#2e6cbb'>📐 DATA PROFILING ADDITIONAL STATISTICS</span>"
          },
          "metadata": {}
        },
        {
          "output_type": "stream",
          "name": "stdout",
          "text": [
            "Field Data Types (Count)        : 1\n",
            "--------------------------------------------------\n",
            "Field Length (MIN)              : 0\n",
            "--------------------------------------------------\n",
            "Field Length (MAX)              : 3\n",
            "--------------------------------------------------\n"
          ]
        },
        {
          "output_type": "display_data",
          "data": {
            "text/plain": [
              "<IPython.core.display.Markdown object>"
            ],
            "text/markdown": "### <span style='color:#2e6cbb'>⭐ SMOKING — TOP 5 VALUES</span>"
          },
          "metadata": {}
        },
        {
          "output_type": "stream",
          "name": "stdout",
          "text": [
            "Value                              Count  Percentage\n",
            "-------------------------------------------------------\n",
            "Yes                                 5123       51.23%\n",
            "No                                  4852       48.52%\n",
            "                                      25        0.25%\n"
          ]
        }
      ]
    },
    {
      "cell_type": "markdown",
      "source": [
        "####2.7 Family Heart Disease"
      ],
      "metadata": {
        "id": "QjGwEEQl0ujt"
      }
    },
    {
      "cell_type": "code",
      "source": [
        "analyze_column(df, 'Family Heart Disease')"
      ],
      "metadata": {
        "colab": {
          "base_uri": "https://localhost:8080/",
          "height": 805
        },
        "id": "oFM-N1zd0RHx",
        "outputId": "3474754b-e48e-4f33-f116-60456bbe41bf"
      },
      "execution_count": 29,
      "outputs": [
        {
          "output_type": "display_data",
          "data": {
            "text/plain": [
              "<IPython.core.display.Markdown object>"
            ],
            "text/markdown": "### <span style='color:#2e6cbb'>🔎 INPUT METADATA — FAMILY HEART DISEASE</span>"
          },
          "metadata": {}
        },
        {
          "output_type": "stream",
          "name": "stdout",
          "text": [
            "Field Name                      : Family Heart Disease\n",
            "--------------------------------------------------\n",
            "Field Data Type                 : STR\n",
            "--------------------------------------------------\n",
            "Field Format                    : xxx\n",
            "--------------------------------------------------\n",
            "Field Length (MAX)              : 3\n",
            "--------------------------------------------------\n"
          ]
        },
        {
          "output_type": "display_data",
          "data": {
            "text/plain": [
              "<IPython.core.display.Markdown object>"
            ],
            "text/markdown": "### <span style='color:#2e6cbb'>📊 DATA PROFILING SUMMARY STATISTICS</span>"
          },
          "metadata": {}
        },
        {
          "output_type": "stream",
          "name": "stdout",
          "text": [
            "Total Rows                      : 10000\n",
            "--------------------------------------------------\n",
            "NULL Count                      : 0\n",
            "--------------------------------------------------\n",
            "Missing (blank strings)         : 21\n",
            "--------------------------------------------------\n",
            "Actual (Non-missing)            : 9979\n",
            "--------------------------------------------------\n",
            "Completeness (%)                : 99.79%\n",
            "--------------------------------------------------\n",
            "Cardinality                     : 3\n",
            "--------------------------------------------------\n",
            "Uniqueness (%)                  : 0.03%\n",
            "--------------------------------------------------\n",
            "Distinctness (%)                : 0.03%\n",
            "--------------------------------------------------\n"
          ]
        },
        {
          "output_type": "display_data",
          "data": {
            "text/plain": [
              "<IPython.core.display.Markdown object>"
            ],
            "text/markdown": "### <span style='color:#2e6cbb'>📐 DATA PROFILING ADDITIONAL STATISTICS</span>"
          },
          "metadata": {}
        },
        {
          "output_type": "stream",
          "name": "stdout",
          "text": [
            "Field Data Types (Count)        : 1\n",
            "--------------------------------------------------\n",
            "Field Length (MIN)              : 0\n",
            "--------------------------------------------------\n",
            "Field Length (MAX)              : 3\n",
            "--------------------------------------------------\n"
          ]
        },
        {
          "output_type": "display_data",
          "data": {
            "text/plain": [
              "<IPython.core.display.Markdown object>"
            ],
            "text/markdown": "### <span style='color:#2e6cbb'>⭐ FAMILY HEART DISEASE — TOP 5 VALUES</span>"
          },
          "metadata": {}
        },
        {
          "output_type": "stream",
          "name": "stdout",
          "text": [
            "Value                              Count  Percentage\n",
            "-------------------------------------------------------\n",
            "No                                  5004       50.04%\n",
            "Yes                                 4975       49.75%\n",
            "                                      21        0.21%\n"
          ]
        }
      ]
    },
    {
      "cell_type": "markdown",
      "source": [
        "####2.8 BMI"
      ],
      "metadata": {
        "id": "8slVXmub0zc-"
      }
    },
    {
      "cell_type": "code",
      "source": [
        "analyze_column(df, 'BMI')"
      ],
      "metadata": {
        "colab": {
          "base_uri": "https://localhost:8080/",
          "height": 841
        },
        "id": "_zUQxY_10Ta3",
        "outputId": "f8b9a8e7-48e6-4e45-88c1-116cd64e3465"
      },
      "execution_count": 30,
      "outputs": [
        {
          "output_type": "display_data",
          "data": {
            "text/plain": [
              "<IPython.core.display.Markdown object>"
            ],
            "text/markdown": "### <span style='color:#2e6cbb'>🔎 INPUT METADATA — BMI</span>"
          },
          "metadata": {}
        },
        {
          "output_type": "stream",
          "name": "stdout",
          "text": [
            "Field Name                      : BMI\n",
            "--------------------------------------------------\n",
            "Field Data Type                 : DECIMAL\n",
            "--------------------------------------------------\n",
            "Field Format                    : nnxnnnnnnnnnnnnnnn\n",
            "--------------------------------------------------\n",
            "Field Length (MAX)              : 18\n",
            "--------------------------------------------------\n"
          ]
        },
        {
          "output_type": "display_data",
          "data": {
            "text/plain": [
              "<IPython.core.display.Markdown object>"
            ],
            "text/markdown": "### <span style='color:#2e6cbb'>📊 DATA PROFILING SUMMARY STATISTICS</span>"
          },
          "metadata": {}
        },
        {
          "output_type": "stream",
          "name": "stdout",
          "text": [
            "Total Rows                      : 10000\n",
            "--------------------------------------------------\n",
            "NULL Count                      : 0\n",
            "--------------------------------------------------\n",
            "Missing (blank strings)         : 22\n",
            "--------------------------------------------------\n",
            "Actual (Non-missing)            : 9978\n",
            "--------------------------------------------------\n",
            "Completeness (%)                : 99.78%\n",
            "--------------------------------------------------\n",
            "Cardinality                     : 9979\n",
            "--------------------------------------------------\n",
            "Uniqueness (%)                  : 99.79%\n",
            "--------------------------------------------------\n",
            "Distinctness (%)                : 100.01%\n",
            "--------------------------------------------------\n"
          ]
        },
        {
          "output_type": "display_data",
          "data": {
            "text/plain": [
              "<IPython.core.display.Markdown object>"
            ],
            "text/markdown": "### <span style='color:#2e6cbb'>📐 DATA PROFILING ADDITIONAL STATISTICS</span>"
          },
          "metadata": {}
        },
        {
          "output_type": "stream",
          "name": "stdout",
          "text": [
            "Field Data Types (Count)        : 2\n",
            "--------------------------------------------------\n",
            "Field Length (MIN)              : 0\n",
            "--------------------------------------------------\n",
            "Field Length (MAX)              : 18\n",
            "--------------------------------------------------\n"
          ]
        },
        {
          "output_type": "display_data",
          "data": {
            "text/plain": [
              "<IPython.core.display.Markdown object>"
            ],
            "text/markdown": "### <span style='color:#2e6cbb'>⭐ BMI — TOP 5 VALUES</span>"
          },
          "metadata": {}
        },
        {
          "output_type": "stream",
          "name": "stdout",
          "text": [
            "Value                              Count  Percentage\n",
            "-------------------------------------------------------\n",
            "                                      22        0.22%\n",
            "29.667206440832203                     1        0.01%\n",
            "22.649772128045168                     1        0.01%\n",
            "28.736666746435628                     1        0.01%\n",
            "27.840845436728944                     1        0.01%\n"
          ]
        }
      ]
    },
    {
      "cell_type": "markdown",
      "source": [
        "####2.9 Alcohol Consumption"
      ],
      "metadata": {
        "id": "5bpraIY9024Q"
      }
    },
    {
      "cell_type": "code",
      "source": [
        "analyze_column(df, 'Alcohol Consumption')"
      ],
      "metadata": {
        "colab": {
          "base_uri": "https://localhost:8080/",
          "height": 823
        },
        "id": "JEOncHOG0Vh4",
        "outputId": "d87c21b5-d23d-4495-8a8c-c739c7399067"
      },
      "execution_count": 31,
      "outputs": [
        {
          "output_type": "display_data",
          "data": {
            "text/plain": [
              "<IPython.core.display.Markdown object>"
            ],
            "text/markdown": "### <span style='color:#2e6cbb'>🔎 INPUT METADATA — ALCOHOL CONSUMPTION</span>"
          },
          "metadata": {}
        },
        {
          "output_type": "stream",
          "name": "stdout",
          "text": [
            "Field Name                      : Alcohol Consumption\n",
            "--------------------------------------------------\n",
            "Field Data Type                 : STR\n",
            "--------------------------------------------------\n",
            "Field Format                    : xxxx\n",
            "--------------------------------------------------\n",
            "Field Length (MAX)              : 6\n",
            "--------------------------------------------------\n"
          ]
        },
        {
          "output_type": "display_data",
          "data": {
            "text/plain": [
              "<IPython.core.display.Markdown object>"
            ],
            "text/markdown": "### <span style='color:#2e6cbb'>📊 DATA PROFILING SUMMARY STATISTICS</span>"
          },
          "metadata": {}
        },
        {
          "output_type": "stream",
          "name": "stdout",
          "text": [
            "Total Rows                      : 10000\n",
            "--------------------------------------------------\n",
            "NULL Count                      : 0\n",
            "--------------------------------------------------\n",
            "Missing (blank strings)         : 2586\n",
            "--------------------------------------------------\n",
            "Actual (Non-missing)            : 7414\n",
            "--------------------------------------------------\n",
            "Completeness (%)                : 74.14%\n",
            "--------------------------------------------------\n",
            "Cardinality                     : 4\n",
            "--------------------------------------------------\n",
            "Uniqueness (%)                  : 0.04%\n",
            "--------------------------------------------------\n",
            "Distinctness (%)                : 0.05%\n",
            "--------------------------------------------------\n"
          ]
        },
        {
          "output_type": "display_data",
          "data": {
            "text/plain": [
              "<IPython.core.display.Markdown object>"
            ],
            "text/markdown": "### <span style='color:#2e6cbb'>📐 DATA PROFILING ADDITIONAL STATISTICS</span>"
          },
          "metadata": {}
        },
        {
          "output_type": "stream",
          "name": "stdout",
          "text": [
            "Field Data Types (Count)        : 1\n",
            "--------------------------------------------------\n",
            "Field Length (MIN)              : 0\n",
            "--------------------------------------------------\n",
            "Field Length (MAX)              : 6\n",
            "--------------------------------------------------\n"
          ]
        },
        {
          "output_type": "display_data",
          "data": {
            "text/plain": [
              "<IPython.core.display.Markdown object>"
            ],
            "text/markdown": "### <span style='color:#2e6cbb'>⭐ ALCOHOL CONSUMPTION — TOP 5 VALUES</span>"
          },
          "metadata": {}
        },
        {
          "output_type": "stream",
          "name": "stdout",
          "text": [
            "Value                              Count  Percentage\n",
            "-------------------------------------------------------\n",
            "                                    2586       25.86%\n",
            "Medium                              2500        25.0%\n",
            "Low                                 2488       24.88%\n",
            "High                                2426       24.26%\n"
          ]
        }
      ]
    },
    {
      "cell_type": "markdown",
      "source": [
        "####2.10 Stress Level"
      ],
      "metadata": {
        "id": "cFRjyckO05Io"
      }
    },
    {
      "cell_type": "code",
      "source": [
        "analyze_column(df, 'Stress Level')"
      ],
      "metadata": {
        "colab": {
          "base_uri": "https://localhost:8080/",
          "height": 823
        },
        "id": "xoXrwof10WVz",
        "outputId": "67485273-6914-4721-9098-aadd1b762d1d"
      },
      "execution_count": 32,
      "outputs": [
        {
          "output_type": "display_data",
          "data": {
            "text/plain": [
              "<IPython.core.display.Markdown object>"
            ],
            "text/markdown": "### <span style='color:#2e6cbb'>🔎 INPUT METADATA — STRESS LEVEL</span>"
          },
          "metadata": {}
        },
        {
          "output_type": "stream",
          "name": "stdout",
          "text": [
            "Field Name                      : Stress Level\n",
            "--------------------------------------------------\n",
            "Field Data Type                 : STR\n",
            "--------------------------------------------------\n",
            "Field Format                    : xxxxxx\n",
            "--------------------------------------------------\n",
            "Field Length (MAX)              : 6\n",
            "--------------------------------------------------\n"
          ]
        },
        {
          "output_type": "display_data",
          "data": {
            "text/plain": [
              "<IPython.core.display.Markdown object>"
            ],
            "text/markdown": "### <span style='color:#2e6cbb'>📊 DATA PROFILING SUMMARY STATISTICS</span>"
          },
          "metadata": {}
        },
        {
          "output_type": "stream",
          "name": "stdout",
          "text": [
            "Total Rows                      : 10000\n",
            "--------------------------------------------------\n",
            "NULL Count                      : 0\n",
            "--------------------------------------------------\n",
            "Missing (blank strings)         : 22\n",
            "--------------------------------------------------\n",
            "Actual (Non-missing)            : 9978\n",
            "--------------------------------------------------\n",
            "Completeness (%)                : 99.78%\n",
            "--------------------------------------------------\n",
            "Cardinality                     : 4\n",
            "--------------------------------------------------\n",
            "Uniqueness (%)                  : 0.04%\n",
            "--------------------------------------------------\n",
            "Distinctness (%)                : 0.04%\n",
            "--------------------------------------------------\n"
          ]
        },
        {
          "output_type": "display_data",
          "data": {
            "text/plain": [
              "<IPython.core.display.Markdown object>"
            ],
            "text/markdown": "### <span style='color:#2e6cbb'>📐 DATA PROFILING ADDITIONAL STATISTICS</span>"
          },
          "metadata": {}
        },
        {
          "output_type": "stream",
          "name": "stdout",
          "text": [
            "Field Data Types (Count)        : 1\n",
            "--------------------------------------------------\n",
            "Field Length (MIN)              : 0\n",
            "--------------------------------------------------\n",
            "Field Length (MAX)              : 6\n",
            "--------------------------------------------------\n"
          ]
        },
        {
          "output_type": "display_data",
          "data": {
            "text/plain": [
              "<IPython.core.display.Markdown object>"
            ],
            "text/markdown": "### <span style='color:#2e6cbb'>⭐ STRESS LEVEL — TOP 5 VALUES</span>"
          },
          "metadata": {}
        },
        {
          "output_type": "stream",
          "name": "stdout",
          "text": [
            "Value                              Count  Percentage\n",
            "-------------------------------------------------------\n",
            "Medium                              3387       33.87%\n",
            "Low                                 3320        33.2%\n",
            "High                                3271       32.71%\n",
            "                                      22        0.22%\n"
          ]
        }
      ]
    },
    {
      "cell_type": "markdown",
      "source": [
        "####2.11 Heart Disease Status"
      ],
      "metadata": {
        "id": "bpMq76NH07T0"
      }
    },
    {
      "cell_type": "code",
      "source": [
        "analyze_column(df, 'Heart Disease Status')"
      ],
      "metadata": {
        "colab": {
          "base_uri": "https://localhost:8080/",
          "height": 787
        },
        "id": "G4xUejyF0Xhj",
        "outputId": "d4c0e9ac-18fc-4a58-c364-198e2b45c32d"
      },
      "execution_count": 33,
      "outputs": [
        {
          "output_type": "display_data",
          "data": {
            "text/plain": [
              "<IPython.core.display.Markdown object>"
            ],
            "text/markdown": "### <span style='color:#2e6cbb'>🔎 INPUT METADATA — HEART DISEASE STATUS</span>"
          },
          "metadata": {}
        },
        {
          "output_type": "stream",
          "name": "stdout",
          "text": [
            "Field Name                      : Heart Disease Status\n",
            "--------------------------------------------------\n",
            "Field Data Type                 : STR\n",
            "--------------------------------------------------\n",
            "Field Format                    : xx\n",
            "--------------------------------------------------\n",
            "Field Length (MAX)              : 3\n",
            "--------------------------------------------------\n"
          ]
        },
        {
          "output_type": "display_data",
          "data": {
            "text/plain": [
              "<IPython.core.display.Markdown object>"
            ],
            "text/markdown": "### <span style='color:#2e6cbb'>📊 DATA PROFILING SUMMARY STATISTICS</span>"
          },
          "metadata": {}
        },
        {
          "output_type": "stream",
          "name": "stdout",
          "text": [
            "Total Rows                      : 10000\n",
            "--------------------------------------------------\n",
            "NULL Count                      : 0\n",
            "--------------------------------------------------\n",
            "Missing (blank strings)         : 0\n",
            "--------------------------------------------------\n",
            "Actual (Non-missing)            : 10000\n",
            "--------------------------------------------------\n",
            "Completeness (%)                : 100.00%\n",
            "--------------------------------------------------\n",
            "Cardinality                     : 2\n",
            "--------------------------------------------------\n",
            "Uniqueness (%)                  : 0.02%\n",
            "--------------------------------------------------\n",
            "Distinctness (%)                : 0.02%\n",
            "--------------------------------------------------\n"
          ]
        },
        {
          "output_type": "display_data",
          "data": {
            "text/plain": [
              "<IPython.core.display.Markdown object>"
            ],
            "text/markdown": "### <span style='color:#2e6cbb'>📐 DATA PROFILING ADDITIONAL STATISTICS</span>"
          },
          "metadata": {}
        },
        {
          "output_type": "stream",
          "name": "stdout",
          "text": [
            "Field Data Types (Count)        : 1\n",
            "--------------------------------------------------\n",
            "Field Length (MIN)              : 2\n",
            "--------------------------------------------------\n",
            "Field Length (MAX)              : 3\n",
            "--------------------------------------------------\n"
          ]
        },
        {
          "output_type": "display_data",
          "data": {
            "text/plain": [
              "<IPython.core.display.Markdown object>"
            ],
            "text/markdown": "### <span style='color:#2e6cbb'>⭐ HEART DISEASE STATUS — TOP 5 VALUES</span>"
          },
          "metadata": {}
        },
        {
          "output_type": "stream",
          "name": "stdout",
          "text": [
            "Value                              Count  Percentage\n",
            "-------------------------------------------------------\n",
            "No                                  8000        80.0%\n",
            "Yes                                 2000        20.0%\n"
          ]
        }
      ]
    }
  ],
  "metadata": {
    "kernelspec": {
      "display_name": "Python 3",
      "language": "python",
      "name": "python3"
    },
    "language_info": {
      "codemirror_mode": {
        "name": "ipython",
        "version": 3
      },
      "file_extension": ".py",
      "mimetype": "text/x-python",
      "name": "python",
      "nbconvert_exporter": "python",
      "pygments_lexer": "ipython3",
      "version": "3.11.4"
    },
    "orig_nbformat": 4,
    "colab": {
      "provenance": [],
      "include_colab_link": true
    }
  },
  "nbformat": 4,
  "nbformat_minor": 0
}